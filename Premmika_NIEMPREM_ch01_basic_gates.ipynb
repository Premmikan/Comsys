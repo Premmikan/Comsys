{
  "nbformat": 4,
  "nbformat_minor": 0,
  "metadata": {
    "colab": {
      "provenance": [],
      "include_colab_link": true
    },
    "kernelspec": {
      "name": "python3",
      "display_name": "Python 3"
    }
  },
  "cells": [
    {
      "cell_type": "markdown",
      "metadata": {
        "id": "view-in-github",
        "colab_type": "text"
      },
      "source": [
        "<a href=\"https://colab.research.google.com/github/Premmikan/Comsys/blob/main/Premmika_NIEMPREM_ch01_basic_gates.ipynb\" target=\"_parent\"><img src=\"https://colab.research.google.com/assets/colab-badge.svg\" alt=\"Open In Colab\"/></a>"
      ]
    },
    {
      "cell_type": "markdown",
      "metadata": {
        "id": "5qGuS7OD8gJx"
      },
      "source": [
        "# เกทพื้นฐาน\n",
        "\n",
        "*(ดัดแปลงจากโน้ตบุ๊คต้นฉบับโดย ผศ.ดร.จิตร์ทัศน์ ฝักเจริญผล ภาคต้น ปีการศึกษา 2563)*\n",
        "\n",
        "ในส่วนนี้เราจะสร้างเกทพื้นฐาน (Not, And, Or และ Xor) **ทั้งหมดขึ้นมาจาก** Nand gate\n",
        "\n",
        "ก่อนอื่นเราจะโหลดไลบรารีก่อน"
      ]
    },
    {
      "cell_type": "code",
      "metadata": {
        "id": "gDOxbBtmE_U9"
      },
      "source": [
        "%%capture\n",
        "!rm -rf comp-sys-public-lib\n",
        "!wget -q -O - https://ecourse.cpe.ku.ac.th/courses/comsys/lib/ch01.tgz | tar zxf -\n",
        "!pip install -e comp-sys-public-lib\n",
        "!pip install -e comp-sys-public-lib/modules/component-builder\n",
        "import site; site.main()\n",
        "from course_ch01_init import *"
      ],
      "execution_count": null,
      "outputs": []
    },
    {
      "cell_type": "markdown",
      "metadata": {
        "id": "TJNQhuvuFCBf"
      },
      "source": [
        "## เกท Not And Or และ Xor\n",
        "\n",
        "ในส่วนแรกเราจะสร้าง Not, And, Or และ Xor โค้ดสำหรับทดสอบจะอยู่ถัดไป\n",
        "\n",
        "ตูตัวอย่างการทำงานแบบโต้ตอบได้จากลิงก์ต่อไปนี้\n",
        "* [Not gate](https://ecourse.cpe.ku.ac.th/courses/comsys/demo/not.html)\n",
        "* [And gate](https://ecourse.cpe.ku.ac.th/courses/comsys/demo/and.html)\n",
        "* [Or gate](https://ecourse.cpe.ku.ac.th/courses/comsys/demo/or.html)\n",
        "* [Xor gate](https://ecourse.cpe.ku.ac.th/courses/comsys/demo/xor.html)\n",
        "\n",
        "หมายเหตุ: ในการทำแบบฝึกหัด อาจจะไล่เขียนทีละเกท และลงไปทดสอบที่ด้านล่าง จากนั้นค่อยกลับมาเขียนเกทถัดไป"
      ]
    },
    {
      "cell_type": "code",
      "metadata": {
        "id": "q5NTNEbsFIpG"
      },
      "source": [
        "# DO NOT ERASE THIS CELL - to be graded\n",
        "\n",
        "class Not(NotLayoutMixin, Component):\n",
        "    IN = [w.In]\n",
        "    OUT = [w.out]\n",
        "\n",
        "    PARTS = [\n",
        "        Nand(a = w.In, b = w.In , out = w.out)\n",
        "    ]"
      ],
      "execution_count": null,
      "outputs": []
    },
    {
      "cell_type": "code",
      "source": [
        "interact(Not ,depth = 1)"
      ],
      "metadata": {
        "colab": {
          "base_uri": "https://localhost:8080/",
          "height": 135
        },
        "id": "hW9ewru0Pig_",
        "outputId": "1e5c4ad3-63c2-4fdd-f219-834916e88a17"
      },
      "execution_count": null,
      "outputs": [
        {
          "output_type": "display_data",
          "data": {
            "text/html": [
              "\n",
              "        <script src=\"https://d3js.org/d3.v5.js\"></script>\n",
              "        <script src=\"https://cdn.jsdelivr.net/npm/elkjs@0.8.2/lib/elk.bundled.js\"></script>\n",
              "        <script src=\"https://ecourse.cpe.ku.ac.th/component-builder/compbuilder/js/component.js?v=20240703-1\"></script>\n",
              "        <script src=\"https://ecourse.cpe.ku.ac.th/component-builder/compbuilder/js/visual.js?v=20240703-1\"></script>\n",
              "        <script src=\"https://ecourse.cpe.ku.ac.th/component-builder/compbuilder/js/widgets.js?v=20240703-1\"></script>\n",
              "    "
            ]
          },
          "metadata": {}
        },
        {
          "output_type": "display_data",
          "data": {
            "text/html": [
              "<script>var compConfig = {\"parts\": [{\"name\": \"Not\", \"config\": \"Not\", \"wiring\": {\"In\": {\"net\": 0, \"slice\": [0, 0]}, \"out\": {\"net\": 1, \"slice\": [0, 0]}}}, {\"name\": \"Nand-1\", \"config\": \"Nand\", \"wiring\": {\"a\": {\"net\": 0, \"slice\": [0, 0]}, \"b\": {\"net\": 0, \"slice\": [0, 0]}, \"out\": {\"net\": 1, \"slice\": [0, 0]}}}], \"nets\": [{\"name\": \"Not:In\", \"level\": 0, \"width\": 1, \"signal\": 0, \"sources\": [{\"part\": 0, \"wire\": \"In\"}], \"wiring\": {\"a\": {\"net\": 0, \"slice\": [0, 0]}, \"b\": {\"net\": 0, \"slice\": [0, 0]}, \"out\": {\"net\": 1, \"slice\": [0, 0]}}}, {\"name\": \"Not:out\", \"level\": 1, \"width\": 1, \"signal\": 1, \"sources\": [{\"part\": 1, \"wire\": \"out\"}], \"wiring\": {\"a\": {\"net\": 0, \"slice\": [0, 0]}, \"b\": {\"net\": 0, \"slice\": [0, 0]}, \"out\": {\"net\": 1, \"slice\": [0, 0]}}}]};\n",
              "\n",
              "compConfig.partConfigs = {\n",
              "  \"Not\" : {\n",
              "    IN: [\"In\"],\n",
              "    OUT: [\"out\"],\n",
              "  },\n",
              "  \"Nand\" : {\n",
              "    IN: [\"a\",\"b\"],\n",
              "    OUT: [\"out\"],\n",
              "    init: null,\n",
              "    process: {\n",
              "      \"out\" : function(w) { return (w.a==1) && (w.b==1) ? 0 : 1; },\n",
              "    }\n",
              "  }\n",
              "};\n",
              "\n",
              "var component = new Component(compConfig);\n",
              "\n",
              "var graph = {\"id\": \"$root\", \"children\": [{\"id\": \"Not\", \"children\": [{\"id\": \"Nand-1\", \"width\": 48, \"height\": 40, \"labels\": [{\"text\": \"Nand-1\", \"id\": \"L_1\", \"width\": 36, \"height\": 10}], \"svg\": \"\\n            <path d=\\\"M 0,0\\n                     h 20\\n                     a 20,20,180,1,1,0,40\\n                     h -20\\n                     z\\\" />\\n            <circle cx=\\\"44\\\" cy=\\\"20\\\" r=\\\"4\\\"/>\\n        \", \"ports\": [{\"id\": \"P_Nand-1:b\", \"properties\": {\"port.side\": \"WEST\", \"port.index\": 0}, \"width\": 0, \"height\": 16, \"wire\": {\"net\": 0, \"slice\": [0, 0], \"name\": \"b\"}, \"name\": \"b\"}, {\"id\": \"P_Nand-1:a\", \"properties\": {\"port.side\": \"WEST\", \"port.index\": 1}, \"width\": 0, \"height\": 16, \"wire\": {\"net\": 0, \"slice\": [0, 0], \"name\": \"a\"}, \"name\": \"a\"}, {\"id\": \"P_Nand-1:out\", \"properties\": {\"port.side\": \"EAST\", \"port.index\": 2}, \"width\": 0, \"height\": 16, \"wire\": {\"net\": 1, \"slice\": [0, 0], \"name\": \"out\"}, \"name\": \"out\"}], \"gate\": \"Nand\", \"properties\": {\"portConstraints\": \"FIXED_ORDER\", \"nodeLabels.placement\": \"[H_LEFT, V_TOP, OUTSIDE]\", \"portLabels.placement\": \"OUTSIDE\"}, \"node_id\": 1}], \"ports\": [{\"id\": \"P_Not:In\", \"properties\": {\"port.side\": \"WEST\", \"port.index\": 0}, \"width\": 8, \"height\": 8, \"labels\": [{\"id\": \"LPNot:In\", \"text\": \"In\", \"width\": 12, \"height\": 10}], \"wire\": {\"net\": 0, \"slice\": [0, 0], \"name\": \"In\"}, \"name\": \"In\"}, {\"id\": \"P_Not:out\", \"properties\": {\"port.side\": \"EAST\", \"port.index\": 1}, \"width\": 8, \"height\": 8, \"labels\": [{\"id\": \"LPNot:out\", \"text\": \"out\", \"width\": 18, \"height\": 10}], \"wire\": {\"net\": 1, \"slice\": [0, 0], \"name\": \"out\"}, \"name\": \"out\"}], \"edges\": [{\"sources\": [\"P_Not:In\"], \"targets\": [\"P_Nand-1:a\"], \"wire\": {\"net\": 0, \"slice\": [0, 0]}, \"dir\": \"in\", \"name\": \"In\", \"id\": \"E_0\"}, {\"sources\": [\"P_Not:In\"], \"targets\": [\"P_Nand-1:b\"], \"wire\": {\"net\": 0, \"slice\": [0, 0]}, \"dir\": \"in\", \"name\": \"In\", \"id\": \"E_1\"}, {\"sources\": [\"P_Nand-1:out\"], \"targets\": [\"P_Not:out\"], \"wire\": {\"net\": 1, \"slice\": [0, 0]}, \"dir\": \"out\", \"name\": \"out\", \"id\": \"E_2\"}], \"gate\": \"Not\", \"labels\": [{\"text\": \"Not\", \"id\": \"L\", \"width\": 18, \"height\": 10}], \"properties\": {\"portConstraints\": \"FIXED_ORDER\", \"nodeLabels.placement\": \"[H_LEFT, V_TOP, OUTSIDE]\", \"portLabels.placement\": \"OUTSIDE\"}}, {\"id\": \"C_Not:In\", \"type\": \"connector\", \"direction\": \"in\", \"width\": 20, \"height\": 16, \"ports\": [{\"id\": \"CP_Not:In\", \"properties\": {\"port.side\": \"EAST\"}, \"width\": 0, \"height\": 0, \"type\": \"connector\"}], \"properties\": {\"portConstraints\": \"FIXED_ORDER\", \"nodeLabels.placement\": \"[H_CENTER, V_CENTER, INSIDE]\"}, \"wire\": {\"net\": 0, \"slice\": [0, 0], \"name\": \"In\"}}, {\"id\": \"C_Not:out\", \"type\": \"connector\", \"direction\": \"out\", \"width\": 20, \"height\": 16, \"ports\": [{\"id\": \"CP_Not:out\", \"properties\": {\"port.side\": \"WEST\"}, \"width\": 0, \"height\": 0, \"type\": \"connector\"}], \"properties\": {\"portConstraints\": \"FIXED_ORDER\", \"nodeLabels.placement\": \"[H_CENTER, V_CENTER, INSIDE]\"}, \"wire\": {\"net\": 1, \"slice\": [0, 0], \"name\": \"out\"}}], \"edges\": [{\"sources\": [\"CP_Not:In\"], \"targets\": [\"P_Not:In\"], \"id\": \"CE_0\", \"wire\": {\"net\": 0, \"slice\": [0, 0], \"name\": \"In\"}, \"name\": \"In\"}, {\"sources\": [\"CP_Not:out\"], \"targets\": [\"P_Not:out\"], \"id\": \"CE_1\", \"wire\": {\"net\": 1, \"slice\": [0, 0], \"name\": \"out\"}, \"name\": \"out\"}]};\n",
              "\n",
              "var probe = [];\n",
              "\n",
              "var config = {\n",
              "  component: component,\n",
              "  graph: graph,\n",
              "  probe: probe,\n",
              "  inputScript: null\n",
              "};</script>"
            ]
          },
          "metadata": {}
        },
        {
          "output_type": "display_data",
          "data": {
            "text/html": [
              "\n",
              "        <link rel=\"stylesheet\" type=\"text/css\" href=\"https://ecourse.cpe.ku.ac.th/component-builder/compbuilder/css/styles.css?v=20240703-1\" />\n",
              "        <div id=\"interact-diagram-1\"></div>\n",
              "        <script>\n",
              "          compbuilder.create(\"#interact-diagram-1\",config);\n",
              "        </script>\n",
              "    "
            ]
          },
          "metadata": {}
        }
      ]
    },
    {
      "cell_type": "code",
      "metadata": {
        "id": "2eES_sNSSBIe"
      },
      "source": [
        "# DO NOT ERASE THIS CELL - to be graded\n",
        "\n",
        "class And(AndLayoutMixin, Component):\n",
        "    IN = [w.a, w.b]\n",
        "    OUT = [w.out]\n",
        "\n",
        "    PARTS = [\n",
        "        Nand(a = w.a,b=w.b, out = w.x),\n",
        "        Not(In=w.x , out = w.out)\n",
        "    ]"
      ],
      "execution_count": null,
      "outputs": []
    },
    {
      "cell_type": "code",
      "source": [
        "interact(And, depth = 1)"
      ],
      "metadata": {
        "colab": {
          "base_uri": "https://localhost:8080/",
          "height": 139
        },
        "id": "zMrqD9GFQVcM",
        "outputId": "3a7ff26e-61fa-43f2-e735-dc553aa855ef"
      },
      "execution_count": null,
      "outputs": [
        {
          "output_type": "display_data",
          "data": {
            "text/html": [
              "\n",
              "        <script src=\"https://d3js.org/d3.v5.js\"></script>\n",
              "        <script src=\"https://cdn.jsdelivr.net/npm/elkjs@0.8.2/lib/elk.bundled.js\"></script>\n",
              "        <script src=\"https://ecourse.cpe.ku.ac.th/component-builder/compbuilder/js/component.js?v=20240703-1\"></script>\n",
              "        <script src=\"https://ecourse.cpe.ku.ac.th/component-builder/compbuilder/js/visual.js?v=20240703-1\"></script>\n",
              "        <script src=\"https://ecourse.cpe.ku.ac.th/component-builder/compbuilder/js/widgets.js?v=20240703-1\"></script>\n",
              "    "
            ]
          },
          "metadata": {}
        },
        {
          "output_type": "display_data",
          "data": {
            "text/html": [
              "<script>var compConfig = {\"parts\": [{\"name\": \"And\", \"config\": \"And\", \"wiring\": {\"a\": {\"net\": 0, \"slice\": [0, 0]}, \"b\": {\"net\": 1, \"slice\": [0, 0]}, \"out\": {\"net\": 3, \"slice\": [0, 0]}}}, {\"name\": \"Nand-1\", \"config\": \"Nand\", \"wiring\": {\"a\": {\"net\": 0, \"slice\": [0, 0]}, \"b\": {\"net\": 1, \"slice\": [0, 0]}, \"out\": {\"net\": 2, \"slice\": [0, 0]}}}, {\"name\": \"Nand-2-1\", \"config\": \"Nand\", \"wiring\": {\"a\": {\"net\": 2, \"slice\": [0, 0]}, \"b\": {\"net\": 2, \"slice\": [0, 0]}, \"out\": {\"net\": 3, \"slice\": [0, 0]}}}], \"nets\": [{\"name\": \"And:a\", \"level\": 0, \"width\": 1, \"signal\": 0, \"sources\": [{\"part\": 0, \"wire\": \"a\"}], \"wiring\": {\"a\": {\"net\": 2, \"slice\": [0, 0]}, \"b\": {\"net\": 2, \"slice\": [0, 0]}, \"out\": {\"net\": 3, \"slice\": [0, 0]}}}, {\"name\": \"And:b\", \"level\": 0, \"width\": 1, \"signal\": 0, \"sources\": [{\"part\": 0, \"wire\": \"b\"}], \"wiring\": {\"a\": {\"net\": 2, \"slice\": [0, 0]}, \"b\": {\"net\": 2, \"slice\": [0, 0]}, \"out\": {\"net\": 3, \"slice\": [0, 0]}}}, {\"name\": \"And:x\", \"level\": 1, \"width\": 1, \"signal\": 1, \"sources\": [{\"part\": 1, \"wire\": \"out\"}], \"wiring\": {\"a\": {\"net\": 2, \"slice\": [0, 0]}, \"b\": {\"net\": 2, \"slice\": [0, 0]}, \"out\": {\"net\": 3, \"slice\": [0, 0]}}}, {\"name\": \"And:out\", \"level\": 2, \"width\": 1, \"signal\": 0, \"sources\": [{\"part\": 2, \"wire\": \"out\"}], \"wiring\": {\"a\": {\"net\": 2, \"slice\": [0, 0]}, \"b\": {\"net\": 2, \"slice\": [0, 0]}, \"out\": {\"net\": 3, \"slice\": [0, 0]}}}]};\n",
              "\n",
              "compConfig.partConfigs = {\n",
              "  \"And\" : {\n",
              "    IN: [\"a\",\"b\"],\n",
              "    OUT: [\"out\"],\n",
              "  },\n",
              "  \"Nand\" : {\n",
              "    IN: [\"a\",\"b\"],\n",
              "    OUT: [\"out\"],\n",
              "    init: null,\n",
              "    process: {\n",
              "      \"out\" : function(w) { return (w.a==1) && (w.b==1) ? 0 : 1; },\n",
              "    }\n",
              "  }\n",
              "};\n",
              "\n",
              "var component = new Component(compConfig);\n",
              "\n",
              "var graph = {\"id\": \"$root\", \"children\": [{\"id\": \"And\", \"children\": [{\"id\": \"Nand-1\", \"width\": 48, \"height\": 40, \"labels\": [{\"text\": \"Nand-1\", \"id\": \"L_1\", \"width\": 36, \"height\": 10}], \"svg\": \"\\n            <path d=\\\"M 0,0\\n                     h 20\\n                     a 20,20,180,1,1,0,40\\n                     h -20\\n                     z\\\" />\\n            <circle cx=\\\"44\\\" cy=\\\"20\\\" r=\\\"4\\\"/>\\n        \", \"ports\": [{\"id\": \"P_Nand-1:b\", \"properties\": {\"port.side\": \"WEST\", \"port.index\": 0}, \"width\": 0, \"height\": 16, \"wire\": {\"net\": 1, \"slice\": [0, 0], \"name\": \"b\"}, \"name\": \"b\"}, {\"id\": \"P_Nand-1:a\", \"properties\": {\"port.side\": \"WEST\", \"port.index\": 1}, \"width\": 0, \"height\": 16, \"wire\": {\"net\": 0, \"slice\": [0, 0], \"name\": \"a\"}, \"name\": \"a\"}, {\"id\": \"P_Nand-1:out\", \"properties\": {\"port.side\": \"EAST\", \"port.index\": 2}, \"width\": 0, \"height\": 16, \"wire\": {\"net\": 2, \"slice\": [0, 0], \"name\": \"out\"}, \"name\": \"out\"}], \"gate\": \"Nand\", \"properties\": {\"portConstraints\": \"FIXED_ORDER\", \"nodeLabels.placement\": \"[H_LEFT, V_TOP, OUTSIDE]\", \"portLabels.placement\": \"OUTSIDE\"}, \"node_id\": 1}, {\"id\": \"Not-2\", \"width\": 38, \"height\": 40, \"labels\": [{\"text\": \"\", \"id\": \"L_2\", \"width\": 0, \"height\": 10}], \"svg\": \"\\n            <path d=\\\"M 0,0\\n                     l 30,20\\n                     l -30,20\\n                     z\\\" />\\n            <circle cx=\\\"34\\\" cy=\\\"20\\\" r=\\\"4\\\"/>\\n        \", \"ports\": [{\"id\": \"P_Not-2:In\", \"properties\": {\"port.side\": \"WEST\", \"port.index\": 0}, \"width\": 0, \"height\": 0, \"wire\": {\"net\": 2, \"slice\": [0, 0], \"name\": \"In\"}, \"name\": \"In\"}, {\"id\": \"P_Not-2:out\", \"properties\": {\"port.side\": \"EAST\", \"port.index\": 1}, \"width\": 0, \"height\": 0, \"wire\": {\"net\": 3, \"slice\": [0, 0], \"name\": \"out\"}, \"name\": \"out\"}], \"gate\": \"Not\", \"properties\": {\"portConstraints\": \"FIXED_ORDER\", \"nodeLabels.placement\": \"[H_LEFT, V_TOP, OUTSIDE]\", \"portLabels.placement\": \"OUTSIDE\"}, \"node_id\": 2}], \"ports\": [{\"id\": \"P_And:b\", \"properties\": {\"port.side\": \"WEST\", \"port.index\": 0}, \"width\": 8, \"height\": 8, \"labels\": [{\"id\": \"LPAnd:b\", \"text\": \"b\", \"width\": 6, \"height\": 10}], \"wire\": {\"net\": 1, \"slice\": [0, 0], \"name\": \"b\"}, \"name\": \"b\"}, {\"id\": \"P_And:a\", \"properties\": {\"port.side\": \"WEST\", \"port.index\": 1}, \"width\": 8, \"height\": 8, \"labels\": [{\"id\": \"LPAnd:a\", \"text\": \"a\", \"width\": 6, \"height\": 10}], \"wire\": {\"net\": 0, \"slice\": [0, 0], \"name\": \"a\"}, \"name\": \"a\"}, {\"id\": \"P_And:out\", \"properties\": {\"port.side\": \"EAST\", \"port.index\": 2}, \"width\": 8, \"height\": 8, \"labels\": [{\"id\": \"LPAnd:out\", \"text\": \"out\", \"width\": 18, \"height\": 10}], \"wire\": {\"net\": 3, \"slice\": [0, 0], \"name\": \"out\"}, \"name\": \"out\"}], \"edges\": [{\"sources\": [\"P_And:a\"], \"targets\": [\"P_Nand-1:a\"], \"wire\": {\"net\": 0, \"slice\": [0, 0]}, \"dir\": \"in\", \"name\": \"a\", \"id\": \"E_0\"}, {\"sources\": [\"P_And:b\"], \"targets\": [\"P_Nand-1:b\"], \"wire\": {\"net\": 1, \"slice\": [0, 0]}, \"dir\": \"in\", \"name\": \"b\", \"id\": \"E_1\"}, {\"sources\": [\"P_Not-2:out\"], \"targets\": [\"P_And:out\"], \"wire\": {\"net\": 3, \"slice\": [0, 0]}, \"dir\": \"out\", \"name\": \"out\", \"id\": \"E_2\"}, {\"sources\": [\"P_Nand-1:out\"], \"targets\": [\"P_Not-2:In\"], \"wire\": {\"net\": 2, \"slice\": [0, 0]}, \"dir\": \"out\", \"name\": \"x\", \"id\": \"E_3\"}], \"gate\": \"And\", \"labels\": [{\"text\": \"And\", \"id\": \"L\", \"width\": 18, \"height\": 10}], \"properties\": {\"portConstraints\": \"FIXED_ORDER\", \"nodeLabels.placement\": \"[H_LEFT, V_TOP, OUTSIDE]\", \"portLabels.placement\": \"OUTSIDE\"}}, {\"id\": \"C_And:b\", \"type\": \"connector\", \"direction\": \"in\", \"width\": 20, \"height\": 16, \"ports\": [{\"id\": \"CP_And:b\", \"properties\": {\"port.side\": \"EAST\"}, \"width\": 0, \"height\": 0, \"type\": \"connector\"}], \"properties\": {\"portConstraints\": \"FIXED_ORDER\", \"nodeLabels.placement\": \"[H_CENTER, V_CENTER, INSIDE]\"}, \"wire\": {\"net\": 1, \"slice\": [0, 0], \"name\": \"b\"}}, {\"id\": \"C_And:a\", \"type\": \"connector\", \"direction\": \"in\", \"width\": 20, \"height\": 16, \"ports\": [{\"id\": \"CP_And:a\", \"properties\": {\"port.side\": \"EAST\"}, \"width\": 0, \"height\": 0, \"type\": \"connector\"}], \"properties\": {\"portConstraints\": \"FIXED_ORDER\", \"nodeLabels.placement\": \"[H_CENTER, V_CENTER, INSIDE]\"}, \"wire\": {\"net\": 0, \"slice\": [0, 0], \"name\": \"a\"}}, {\"id\": \"C_And:out\", \"type\": \"connector\", \"direction\": \"out\", \"width\": 20, \"height\": 16, \"ports\": [{\"id\": \"CP_And:out\", \"properties\": {\"port.side\": \"WEST\"}, \"width\": 0, \"height\": 0, \"type\": \"connector\"}], \"properties\": {\"portConstraints\": \"FIXED_ORDER\", \"nodeLabels.placement\": \"[H_CENTER, V_CENTER, INSIDE]\"}, \"wire\": {\"net\": 3, \"slice\": [0, 0], \"name\": \"out\"}}], \"edges\": [{\"sources\": [\"CP_And:b\"], \"targets\": [\"P_And:b\"], \"id\": \"CE_0\", \"wire\": {\"net\": 1, \"slice\": [0, 0], \"name\": \"b\"}, \"name\": \"b\"}, {\"sources\": [\"CP_And:a\"], \"targets\": [\"P_And:a\"], \"id\": \"CE_1\", \"wire\": {\"net\": 0, \"slice\": [0, 0], \"name\": \"a\"}, \"name\": \"a\"}, {\"sources\": [\"CP_And:out\"], \"targets\": [\"P_And:out\"], \"id\": \"CE_2\", \"wire\": {\"net\": 3, \"slice\": [0, 0], \"name\": \"out\"}, \"name\": \"out\"}]};\n",
              "\n",
              "var probe = [];\n",
              "\n",
              "var config = {\n",
              "  component: component,\n",
              "  graph: graph,\n",
              "  probe: probe,\n",
              "  inputScript: null\n",
              "};</script>"
            ]
          },
          "metadata": {}
        },
        {
          "output_type": "display_data",
          "data": {
            "text/html": [
              "\n",
              "        <link rel=\"stylesheet\" type=\"text/css\" href=\"https://ecourse.cpe.ku.ac.th/component-builder/compbuilder/css/styles.css?v=20240703-1\" />\n",
              "        <div id=\"interact-diagram-2\"></div>\n",
              "        <script>\n",
              "          compbuilder.create(\"#interact-diagram-2\",config);\n",
              "        </script>\n",
              "    "
            ]
          },
          "metadata": {}
        }
      ]
    },
    {
      "cell_type": "code",
      "metadata": {
        "id": "jM3nYA-DS6SO"
      },
      "source": [
        "# DO NOT ERASE THIS CELL - to be graded\n",
        "\n",
        "class Or(OrLayoutMixin, Component):\n",
        "    IN = [w.a, w.b]\n",
        "    OUT = [w.out]\n",
        "\n",
        "    PARTS = [\n",
        "        Not(In = w.a, out = w.x),\n",
        "        Not(In = w.b , out = w.y),\n",
        "        Nand(a = w.x, b = w.y , out = w.out)\n",
        "    ]"
      ],
      "execution_count": null,
      "outputs": []
    },
    {
      "cell_type": "code",
      "source": [
        "interact(Or, depth = 1)"
      ],
      "metadata": {
        "colab": {
          "base_uri": "https://localhost:8080/",
          "height": 180
        },
        "id": "6Gq6lv_FScnG",
        "outputId": "1917e666-3921-43ba-93a9-38aa09849b83"
      },
      "execution_count": null,
      "outputs": [
        {
          "output_type": "display_data",
          "data": {
            "text/html": [
              "\n",
              "        <script src=\"https://d3js.org/d3.v5.js\"></script>\n",
              "        <script src=\"https://cdn.jsdelivr.net/npm/elkjs@0.8.2/lib/elk.bundled.js\"></script>\n",
              "        <script src=\"https://ecourse.cpe.ku.ac.th/component-builder/compbuilder/js/component.js?v=20240703-1\"></script>\n",
              "        <script src=\"https://ecourse.cpe.ku.ac.th/component-builder/compbuilder/js/visual.js?v=20240703-1\"></script>\n",
              "        <script src=\"https://ecourse.cpe.ku.ac.th/component-builder/compbuilder/js/widgets.js?v=20240703-1\"></script>\n",
              "    "
            ]
          },
          "metadata": {}
        },
        {
          "output_type": "display_data",
          "data": {
            "text/html": [
              "<script>var compConfig = {\"parts\": [{\"name\": \"Or\", \"config\": \"Or\", \"wiring\": {\"a\": {\"net\": 0, \"slice\": [0, 0]}, \"b\": {\"net\": 1, \"slice\": [0, 0]}, \"out\": {\"net\": 4, \"slice\": [0, 0]}}}, {\"name\": \"Nand-1-1\", \"config\": \"Nand\", \"wiring\": {\"a\": {\"net\": 0, \"slice\": [0, 0]}, \"b\": {\"net\": 0, \"slice\": [0, 0]}, \"out\": {\"net\": 2, \"slice\": [0, 0]}}}, {\"name\": \"Nand-2-1\", \"config\": \"Nand\", \"wiring\": {\"a\": {\"net\": 1, \"slice\": [0, 0]}, \"b\": {\"net\": 1, \"slice\": [0, 0]}, \"out\": {\"net\": 3, \"slice\": [0, 0]}}}, {\"name\": \"Nand-3\", \"config\": \"Nand\", \"wiring\": {\"a\": {\"net\": 2, \"slice\": [0, 0]}, \"b\": {\"net\": 3, \"slice\": [0, 0]}, \"out\": {\"net\": 4, \"slice\": [0, 0]}}}], \"nets\": [{\"name\": \"Or:a\", \"level\": 0, \"width\": 1, \"signal\": 0, \"sources\": [{\"part\": 0, \"wire\": \"a\"}], \"wiring\": {\"a\": {\"net\": 2, \"slice\": [0, 0]}, \"b\": {\"net\": 3, \"slice\": [0, 0]}, \"out\": {\"net\": 4, \"slice\": [0, 0]}}}, {\"name\": \"Or:b\", \"level\": 0, \"width\": 1, \"signal\": 0, \"sources\": [{\"part\": 0, \"wire\": \"b\"}], \"wiring\": {\"a\": {\"net\": 2, \"slice\": [0, 0]}, \"b\": {\"net\": 3, \"slice\": [0, 0]}, \"out\": {\"net\": 4, \"slice\": [0, 0]}}}, {\"name\": \"Or:x\", \"level\": 1, \"width\": 1, \"signal\": 1, \"sources\": [{\"part\": 1, \"wire\": \"out\"}], \"wiring\": {\"a\": {\"net\": 2, \"slice\": [0, 0]}, \"b\": {\"net\": 3, \"slice\": [0, 0]}, \"out\": {\"net\": 4, \"slice\": [0, 0]}}}, {\"name\": \"Or:y\", \"level\": 1, \"width\": 1, \"signal\": 1, \"sources\": [{\"part\": 2, \"wire\": \"out\"}], \"wiring\": {\"a\": {\"net\": 2, \"slice\": [0, 0]}, \"b\": {\"net\": 3, \"slice\": [0, 0]}, \"out\": {\"net\": 4, \"slice\": [0, 0]}}}, {\"name\": \"Or:out\", \"level\": 2, \"width\": 1, \"signal\": 0, \"sources\": [{\"part\": 3, \"wire\": \"out\"}], \"wiring\": {\"a\": {\"net\": 2, \"slice\": [0, 0]}, \"b\": {\"net\": 3, \"slice\": [0, 0]}, \"out\": {\"net\": 4, \"slice\": [0, 0]}}}]};\n",
              "\n",
              "compConfig.partConfigs = {\n",
              "  \"Or\" : {\n",
              "    IN: [\"a\",\"b\"],\n",
              "    OUT: [\"out\"],\n",
              "  },\n",
              "  \"Nand\" : {\n",
              "    IN: [\"a\",\"b\"],\n",
              "    OUT: [\"out\"],\n",
              "    init: null,\n",
              "    process: {\n",
              "      \"out\" : function(w) { return (w.a==1) && (w.b==1) ? 0 : 1; },\n",
              "    }\n",
              "  }\n",
              "};\n",
              "\n",
              "var component = new Component(compConfig);\n",
              "\n",
              "var graph = {\"id\": \"$root\", \"children\": [{\"id\": \"Or\", \"children\": [{\"id\": \"Not-1\", \"width\": 38, \"height\": 40, \"labels\": [{\"text\": \"\", \"id\": \"L_1\", \"width\": 0, \"height\": 10}], \"svg\": \"\\n            <path d=\\\"M 0,0\\n                     l 30,20\\n                     l -30,20\\n                     z\\\" />\\n            <circle cx=\\\"34\\\" cy=\\\"20\\\" r=\\\"4\\\"/>\\n        \", \"ports\": [{\"id\": \"P_Not-1:In\", \"properties\": {\"port.side\": \"WEST\", \"port.index\": 0}, \"width\": 0, \"height\": 0, \"wire\": {\"net\": 0, \"slice\": [0, 0], \"name\": \"In\"}, \"name\": \"In\"}, {\"id\": \"P_Not-1:out\", \"properties\": {\"port.side\": \"EAST\", \"port.index\": 1}, \"width\": 0, \"height\": 0, \"wire\": {\"net\": 2, \"slice\": [0, 0], \"name\": \"out\"}, \"name\": \"out\"}], \"gate\": \"Not\", \"properties\": {\"portConstraints\": \"FIXED_ORDER\", \"nodeLabels.placement\": \"[H_LEFT, V_TOP, OUTSIDE]\", \"portLabels.placement\": \"OUTSIDE\"}, \"node_id\": 1}, {\"id\": \"Not-2\", \"width\": 38, \"height\": 40, \"labels\": [{\"text\": \"\", \"id\": \"L_2\", \"width\": 0, \"height\": 10}], \"svg\": \"\\n            <path d=\\\"M 0,0\\n                     l 30,20\\n                     l -30,20\\n                     z\\\" />\\n            <circle cx=\\\"34\\\" cy=\\\"20\\\" r=\\\"4\\\"/>\\n        \", \"ports\": [{\"id\": \"P_Not-2:In\", \"properties\": {\"port.side\": \"WEST\", \"port.index\": 0}, \"width\": 0, \"height\": 0, \"wire\": {\"net\": 1, \"slice\": [0, 0], \"name\": \"In\"}, \"name\": \"In\"}, {\"id\": \"P_Not-2:out\", \"properties\": {\"port.side\": \"EAST\", \"port.index\": 1}, \"width\": 0, \"height\": 0, \"wire\": {\"net\": 3, \"slice\": [0, 0], \"name\": \"out\"}, \"name\": \"out\"}], \"gate\": \"Not\", \"properties\": {\"portConstraints\": \"FIXED_ORDER\", \"nodeLabels.placement\": \"[H_LEFT, V_TOP, OUTSIDE]\", \"portLabels.placement\": \"OUTSIDE\"}, \"node_id\": 2}, {\"id\": \"Nand-3\", \"width\": 48, \"height\": 40, \"labels\": [{\"text\": \"Nand-3\", \"id\": \"L_3\", \"width\": 36, \"height\": 10}], \"svg\": \"\\n            <path d=\\\"M 0,0\\n                     h 20\\n                     a 20,20,180,1,1,0,40\\n                     h -20\\n                     z\\\" />\\n            <circle cx=\\\"44\\\" cy=\\\"20\\\" r=\\\"4\\\"/>\\n        \", \"ports\": [{\"id\": \"P_Nand-3:b\", \"properties\": {\"port.side\": \"WEST\", \"port.index\": 0}, \"width\": 0, \"height\": 16, \"wire\": {\"net\": 3, \"slice\": [0, 0], \"name\": \"b\"}, \"name\": \"b\"}, {\"id\": \"P_Nand-3:a\", \"properties\": {\"port.side\": \"WEST\", \"port.index\": 1}, \"width\": 0, \"height\": 16, \"wire\": {\"net\": 2, \"slice\": [0, 0], \"name\": \"a\"}, \"name\": \"a\"}, {\"id\": \"P_Nand-3:out\", \"properties\": {\"port.side\": \"EAST\", \"port.index\": 2}, \"width\": 0, \"height\": 16, \"wire\": {\"net\": 4, \"slice\": [0, 0], \"name\": \"out\"}, \"name\": \"out\"}], \"gate\": \"Nand\", \"properties\": {\"portConstraints\": \"FIXED_ORDER\", \"nodeLabels.placement\": \"[H_LEFT, V_TOP, OUTSIDE]\", \"portLabels.placement\": \"OUTSIDE\"}, \"node_id\": 3}], \"ports\": [{\"id\": \"P_Or:b\", \"properties\": {\"port.side\": \"WEST\", \"port.index\": 0}, \"width\": 8, \"height\": 8, \"labels\": [{\"id\": \"LPOr:b\", \"text\": \"b\", \"width\": 6, \"height\": 10}], \"wire\": {\"net\": 1, \"slice\": [0, 0], \"name\": \"b\"}, \"name\": \"b\"}, {\"id\": \"P_Or:a\", \"properties\": {\"port.side\": \"WEST\", \"port.index\": 1}, \"width\": 8, \"height\": 8, \"labels\": [{\"id\": \"LPOr:a\", \"text\": \"a\", \"width\": 6, \"height\": 10}], \"wire\": {\"net\": 0, \"slice\": [0, 0], \"name\": \"a\"}, \"name\": \"a\"}, {\"id\": \"P_Or:out\", \"properties\": {\"port.side\": \"EAST\", \"port.index\": 2}, \"width\": 8, \"height\": 8, \"labels\": [{\"id\": \"LPOr:out\", \"text\": \"out\", \"width\": 18, \"height\": 10}], \"wire\": {\"net\": 4, \"slice\": [0, 0], \"name\": \"out\"}, \"name\": \"out\"}], \"edges\": [{\"sources\": [\"P_Or:a\"], \"targets\": [\"P_Not-1:In\"], \"wire\": {\"net\": 0, \"slice\": [0, 0]}, \"dir\": \"in\", \"name\": \"a\", \"id\": \"E_0\"}, {\"sources\": [\"P_Or:b\"], \"targets\": [\"P_Not-2:In\"], \"wire\": {\"net\": 1, \"slice\": [0, 0]}, \"dir\": \"in\", \"name\": \"b\", \"id\": \"E_1\"}, {\"sources\": [\"P_Nand-3:out\"], \"targets\": [\"P_Or:out\"], \"wire\": {\"net\": 4, \"slice\": [0, 0]}, \"dir\": \"out\", \"name\": \"out\", \"id\": \"E_2\"}, {\"sources\": [\"P_Not-1:out\"], \"targets\": [\"P_Nand-3:a\"], \"wire\": {\"net\": 2, \"slice\": [0, 0]}, \"dir\": \"out\", \"name\": \"x\", \"id\": \"E_3\"}, {\"sources\": [\"P_Not-2:out\"], \"targets\": [\"P_Nand-3:b\"], \"wire\": {\"net\": 3, \"slice\": [0, 0]}, \"dir\": \"out\", \"name\": \"y\", \"id\": \"E_4\"}], \"gate\": \"Or\", \"labels\": [{\"text\": \"Or\", \"id\": \"L\", \"width\": 12, \"height\": 10}], \"properties\": {\"portConstraints\": \"FIXED_ORDER\", \"nodeLabels.placement\": \"[H_LEFT, V_TOP, OUTSIDE]\", \"portLabels.placement\": \"OUTSIDE\"}}, {\"id\": \"C_Or:b\", \"type\": \"connector\", \"direction\": \"in\", \"width\": 20, \"height\": 16, \"ports\": [{\"id\": \"CP_Or:b\", \"properties\": {\"port.side\": \"EAST\"}, \"width\": 0, \"height\": 0, \"type\": \"connector\"}], \"properties\": {\"portConstraints\": \"FIXED_ORDER\", \"nodeLabels.placement\": \"[H_CENTER, V_CENTER, INSIDE]\"}, \"wire\": {\"net\": 1, \"slice\": [0, 0], \"name\": \"b\"}}, {\"id\": \"C_Or:a\", \"type\": \"connector\", \"direction\": \"in\", \"width\": 20, \"height\": 16, \"ports\": [{\"id\": \"CP_Or:a\", \"properties\": {\"port.side\": \"EAST\"}, \"width\": 0, \"height\": 0, \"type\": \"connector\"}], \"properties\": {\"portConstraints\": \"FIXED_ORDER\", \"nodeLabels.placement\": \"[H_CENTER, V_CENTER, INSIDE]\"}, \"wire\": {\"net\": 0, \"slice\": [0, 0], \"name\": \"a\"}}, {\"id\": \"C_Or:out\", \"type\": \"connector\", \"direction\": \"out\", \"width\": 20, \"height\": 16, \"ports\": [{\"id\": \"CP_Or:out\", \"properties\": {\"port.side\": \"WEST\"}, \"width\": 0, \"height\": 0, \"type\": \"connector\"}], \"properties\": {\"portConstraints\": \"FIXED_ORDER\", \"nodeLabels.placement\": \"[H_CENTER, V_CENTER, INSIDE]\"}, \"wire\": {\"net\": 4, \"slice\": [0, 0], \"name\": \"out\"}}], \"edges\": [{\"sources\": [\"CP_Or:b\"], \"targets\": [\"P_Or:b\"], \"id\": \"CE_0\", \"wire\": {\"net\": 1, \"slice\": [0, 0], \"name\": \"b\"}, \"name\": \"b\"}, {\"sources\": [\"CP_Or:a\"], \"targets\": [\"P_Or:a\"], \"id\": \"CE_1\", \"wire\": {\"net\": 0, \"slice\": [0, 0], \"name\": \"a\"}, \"name\": \"a\"}, {\"sources\": [\"CP_Or:out\"], \"targets\": [\"P_Or:out\"], \"id\": \"CE_2\", \"wire\": {\"net\": 4, \"slice\": [0, 0], \"name\": \"out\"}, \"name\": \"out\"}]};\n",
              "\n",
              "var probe = [];\n",
              "\n",
              "var config = {\n",
              "  component: component,\n",
              "  graph: graph,\n",
              "  probe: probe,\n",
              "  inputScript: null\n",
              "};</script>"
            ]
          },
          "metadata": {}
        },
        {
          "output_type": "display_data",
          "data": {
            "text/html": [
              "\n",
              "        <link rel=\"stylesheet\" type=\"text/css\" href=\"https://ecourse.cpe.ku.ac.th/component-builder/compbuilder/css/styles.css?v=20240703-1\" />\n",
              "        <div id=\"interact-diagram-3\"></div>\n",
              "        <script>\n",
              "          compbuilder.create(\"#interact-diagram-3\",config);\n",
              "        </script>\n",
              "    "
            ]
          },
          "metadata": {}
        }
      ]
    },
    {
      "cell_type": "code",
      "metadata": {
        "id": "BbRPuraRTNNc"
      },
      "source": [
        "# DO NOT ERASE THIS CELL - to be graded\n",
        "\n",
        "class Xor(XorLayoutMixin, Component):\n",
        "    IN = [w.a, w.b]\n",
        "    OUT = [w.out]\n",
        "\n",
        "    PARTS = [\n",
        "        Not(In = w.b, out = w.x),\n",
        "        And(a = w.x,b = w.a,out = w.y),\n",
        "        Not(In = w.a , out = w.z),\n",
        "        And(a = w.z , b = w.b , out = w.k),\n",
        "        Or(a = w.y, b = w.k , out = w.out)\n",
        "    ]"
      ],
      "execution_count": null,
      "outputs": []
    },
    {
      "cell_type": "code",
      "source": [
        "interact(Xor,depth = 1)"
      ],
      "metadata": {
        "colab": {
          "base_uri": "https://localhost:8080/",
          "height": 205
        },
        "id": "nYNJSF4BUO5K",
        "outputId": "0fe4a574-40d1-4b64-ae2d-c999768ce1a5"
      },
      "execution_count": null,
      "outputs": [
        {
          "output_type": "display_data",
          "data": {
            "text/html": [
              "\n",
              "        <script src=\"https://d3js.org/d3.v5.js\"></script>\n",
              "        <script src=\"https://cdn.jsdelivr.net/npm/elkjs@0.8.2/lib/elk.bundled.js\"></script>\n",
              "        <script src=\"https://ecourse.cpe.ku.ac.th/component-builder/compbuilder/js/component.js?v=20240703-1\"></script>\n",
              "        <script src=\"https://ecourse.cpe.ku.ac.th/component-builder/compbuilder/js/visual.js?v=20240703-1\"></script>\n",
              "        <script src=\"https://ecourse.cpe.ku.ac.th/component-builder/compbuilder/js/widgets.js?v=20240703-1\"></script>\n",
              "    "
            ]
          },
          "metadata": {}
        },
        {
          "output_type": "display_data",
          "data": {
            "text/html": [
              "<script>var compConfig = {\"parts\": [{\"name\": \"Xor\", \"config\": \"Xor\", \"wiring\": {\"a\": {\"net\": 0, \"slice\": [0, 0]}, \"b\": {\"net\": 1, \"slice\": [0, 0]}, \"out\": {\"net\": 10, \"slice\": [0, 0]}}}, {\"name\": \"Nand-1-1\", \"config\": \"Nand\", \"wiring\": {\"a\": {\"net\": 1, \"slice\": [0, 0]}, \"b\": {\"net\": 1, \"slice\": [0, 0]}, \"out\": {\"net\": 2, \"slice\": [0, 0]}}}, {\"name\": \"Nand-2-1\", \"config\": \"Nand\", \"wiring\": {\"a\": {\"net\": 2, \"slice\": [0, 0]}, \"b\": {\"net\": 0, \"slice\": [0, 0]}, \"out\": {\"net\": 4, \"slice\": [0, 0]}}}, {\"name\": \"Nand-2-2-1\", \"config\": \"Nand\", \"wiring\": {\"a\": {\"net\": 4, \"slice\": [0, 0]}, \"b\": {\"net\": 4, \"slice\": [0, 0]}, \"out\": {\"net\": 6, \"slice\": [0, 0]}}}, {\"name\": \"Nand-3-1\", \"config\": \"Nand\", \"wiring\": {\"a\": {\"net\": 0, \"slice\": [0, 0]}, \"b\": {\"net\": 0, \"slice\": [0, 0]}, \"out\": {\"net\": 3, \"slice\": [0, 0]}}}, {\"name\": \"Nand-4-1\", \"config\": \"Nand\", \"wiring\": {\"a\": {\"net\": 3, \"slice\": [0, 0]}, \"b\": {\"net\": 1, \"slice\": [0, 0]}, \"out\": {\"net\": 5, \"slice\": [0, 0]}}}, {\"name\": \"Nand-4-2-1\", \"config\": \"Nand\", \"wiring\": {\"a\": {\"net\": 5, \"slice\": [0, 0]}, \"b\": {\"net\": 5, \"slice\": [0, 0]}, \"out\": {\"net\": 7, \"slice\": [0, 0]}}}, {\"name\": \"Nand-5-1-1\", \"config\": \"Nand\", \"wiring\": {\"a\": {\"net\": 6, \"slice\": [0, 0]}, \"b\": {\"net\": 6, \"slice\": [0, 0]}, \"out\": {\"net\": 8, \"slice\": [0, 0]}}}, {\"name\": \"Nand-5-2-1\", \"config\": \"Nand\", \"wiring\": {\"a\": {\"net\": 7, \"slice\": [0, 0]}, \"b\": {\"net\": 7, \"slice\": [0, 0]}, \"out\": {\"net\": 9, \"slice\": [0, 0]}}}, {\"name\": \"Nand-5-3\", \"config\": \"Nand\", \"wiring\": {\"a\": {\"net\": 8, \"slice\": [0, 0]}, \"b\": {\"net\": 9, \"slice\": [0, 0]}, \"out\": {\"net\": 10, \"slice\": [0, 0]}}}], \"nets\": [{\"name\": \"Xor:a\", \"level\": 0, \"width\": 1, \"signal\": 0, \"sources\": [{\"part\": 0, \"wire\": \"a\"}], \"wiring\": {\"a\": {\"net\": 8, \"slice\": [0, 0]}, \"b\": {\"net\": 9, \"slice\": [0, 0]}, \"out\": {\"net\": 10, \"slice\": [0, 0]}}}, {\"name\": \"Xor:b\", \"level\": 0, \"width\": 1, \"signal\": 0, \"sources\": [{\"part\": 0, \"wire\": \"b\"}], \"wiring\": {\"a\": {\"net\": 8, \"slice\": [0, 0]}, \"b\": {\"net\": 9, \"slice\": [0, 0]}, \"out\": {\"net\": 10, \"slice\": [0, 0]}}}, {\"name\": \"Xor:x\", \"level\": 1, \"width\": 1, \"signal\": 1, \"sources\": [{\"part\": 1, \"wire\": \"out\"}], \"wiring\": {\"a\": {\"net\": 8, \"slice\": [0, 0]}, \"b\": {\"net\": 9, \"slice\": [0, 0]}, \"out\": {\"net\": 10, \"slice\": [0, 0]}}}, {\"name\": \"Xor:z\", \"level\": 1, \"width\": 1, \"signal\": 1, \"sources\": [{\"part\": 4, \"wire\": \"out\"}], \"wiring\": {\"a\": {\"net\": 8, \"slice\": [0, 0]}, \"b\": {\"net\": 9, \"slice\": [0, 0]}, \"out\": {\"net\": 10, \"slice\": [0, 0]}}}, {\"name\": \"And-2:x\", \"level\": 2, \"width\": 1, \"signal\": 1, \"sources\": [{\"part\": 2, \"wire\": \"out\"}], \"wiring\": {\"a\": {\"net\": 8, \"slice\": [0, 0]}, \"b\": {\"net\": 9, \"slice\": [0, 0]}, \"out\": {\"net\": 10, \"slice\": [0, 0]}}}, {\"name\": \"And-4:x\", \"level\": 2, \"width\": 1, \"signal\": 1, \"sources\": [{\"part\": 5, \"wire\": \"out\"}], \"wiring\": {\"a\": {\"net\": 8, \"slice\": [0, 0]}, \"b\": {\"net\": 9, \"slice\": [0, 0]}, \"out\": {\"net\": 10, \"slice\": [0, 0]}}}, {\"name\": \"Xor:y\", \"level\": 3, \"width\": 1, \"signal\": 0, \"sources\": [{\"part\": 3, \"wire\": \"out\"}], \"wiring\": {\"a\": {\"net\": 8, \"slice\": [0, 0]}, \"b\": {\"net\": 9, \"slice\": [0, 0]}, \"out\": {\"net\": 10, \"slice\": [0, 0]}}}, {\"name\": \"Xor:k\", \"level\": 3, \"width\": 1, \"signal\": 0, \"sources\": [{\"part\": 6, \"wire\": \"out\"}], \"wiring\": {\"a\": {\"net\": 8, \"slice\": [0, 0]}, \"b\": {\"net\": 9, \"slice\": [0, 0]}, \"out\": {\"net\": 10, \"slice\": [0, 0]}}}, {\"name\": \"Or-5:x\", \"level\": 4, \"width\": 1, \"signal\": 1, \"sources\": [{\"part\": 7, \"wire\": \"out\"}], \"wiring\": {\"a\": {\"net\": 8, \"slice\": [0, 0]}, \"b\": {\"net\": 9, \"slice\": [0, 0]}, \"out\": {\"net\": 10, \"slice\": [0, 0]}}}, {\"name\": \"Or-5:y\", \"level\": 4, \"width\": 1, \"signal\": 1, \"sources\": [{\"part\": 8, \"wire\": \"out\"}], \"wiring\": {\"a\": {\"net\": 8, \"slice\": [0, 0]}, \"b\": {\"net\": 9, \"slice\": [0, 0]}, \"out\": {\"net\": 10, \"slice\": [0, 0]}}}, {\"name\": \"Xor:out\", \"level\": 5, \"width\": 1, \"signal\": 0, \"sources\": [{\"part\": 9, \"wire\": \"out\"}], \"wiring\": {\"a\": {\"net\": 8, \"slice\": [0, 0]}, \"b\": {\"net\": 9, \"slice\": [0, 0]}, \"out\": {\"net\": 10, \"slice\": [0, 0]}}}]};\n",
              "\n",
              "compConfig.partConfigs = {\n",
              "  \"Xor\" : {\n",
              "    IN: [\"a\",\"b\"],\n",
              "    OUT: [\"out\"],\n",
              "  },\n",
              "  \"Nand\" : {\n",
              "    IN: [\"a\",\"b\"],\n",
              "    OUT: [\"out\"],\n",
              "    init: null,\n",
              "    process: {\n",
              "      \"out\" : function(w) { return (w.a==1) && (w.b==1) ? 0 : 1; },\n",
              "    }\n",
              "  }\n",
              "};\n",
              "\n",
              "var component = new Component(compConfig);\n",
              "\n",
              "var graph = {\"id\": \"$root\", \"children\": [{\"id\": \"Xor\", \"children\": [{\"id\": \"Not-1\", \"width\": 38, \"height\": 40, \"labels\": [{\"text\": \"\", \"id\": \"L_1\", \"width\": 0, \"height\": 10}], \"svg\": \"\\n            <path d=\\\"M 0,0\\n                     l 30,20\\n                     l -30,20\\n                     z\\\" />\\n            <circle cx=\\\"34\\\" cy=\\\"20\\\" r=\\\"4\\\"/>\\n        \", \"ports\": [{\"id\": \"P_Not-1:In\", \"properties\": {\"port.side\": \"WEST\", \"port.index\": 0}, \"width\": 0, \"height\": 0, \"wire\": {\"net\": 1, \"slice\": [0, 0], \"name\": \"In\"}, \"name\": \"In\"}, {\"id\": \"P_Not-1:out\", \"properties\": {\"port.side\": \"EAST\", \"port.index\": 1}, \"width\": 0, \"height\": 0, \"wire\": {\"net\": 2, \"slice\": [0, 0], \"name\": \"out\"}, \"name\": \"out\"}], \"gate\": \"Not\", \"properties\": {\"portConstraints\": \"FIXED_ORDER\", \"nodeLabels.placement\": \"[H_LEFT, V_TOP, OUTSIDE]\", \"portLabels.placement\": \"OUTSIDE\"}, \"node_id\": 1}, {\"id\": \"And-2\", \"width\": 40, \"height\": 40, \"labels\": [{\"text\": \"\", \"id\": \"L_2\", \"width\": 0, \"height\": 10}], \"svg\": \"\\n            <path d=\\\"M 0,0\\n                     h 20\\n                     a 20,20,180,1,1,0,40\\n                     h -20\\n                     z\\\" />\\n        \", \"ports\": [{\"id\": \"P_And-2:b\", \"properties\": {\"port.side\": \"WEST\", \"port.index\": 0}, \"width\": 0, \"height\": 16, \"wire\": {\"net\": 0, \"slice\": [0, 0], \"name\": \"b\"}, \"name\": \"b\"}, {\"id\": \"P_And-2:a\", \"properties\": {\"port.side\": \"WEST\", \"port.index\": 1}, \"width\": 0, \"height\": 16, \"wire\": {\"net\": 2, \"slice\": [0, 0], \"name\": \"a\"}, \"name\": \"a\"}, {\"id\": \"P_And-2:out\", \"properties\": {\"port.side\": \"EAST\", \"port.index\": 2}, \"width\": 0, \"height\": 16, \"wire\": {\"net\": 6, \"slice\": [0, 0], \"name\": \"out\"}, \"name\": \"out\"}], \"gate\": \"And\", \"properties\": {\"portConstraints\": \"FIXED_ORDER\", \"nodeLabels.placement\": \"[H_LEFT, V_TOP, OUTSIDE]\", \"portLabels.placement\": \"OUTSIDE\"}, \"node_id\": 2}, {\"id\": \"Not-3\", \"width\": 38, \"height\": 40, \"labels\": [{\"text\": \"\", \"id\": \"L_3\", \"width\": 0, \"height\": 10}], \"svg\": \"\\n            <path d=\\\"M 0,0\\n                     l 30,20\\n                     l -30,20\\n                     z\\\" />\\n            <circle cx=\\\"34\\\" cy=\\\"20\\\" r=\\\"4\\\"/>\\n        \", \"ports\": [{\"id\": \"P_Not-3:In\", \"properties\": {\"port.side\": \"WEST\", \"port.index\": 0}, \"width\": 0, \"height\": 0, \"wire\": {\"net\": 0, \"slice\": [0, 0], \"name\": \"In\"}, \"name\": \"In\"}, {\"id\": \"P_Not-3:out\", \"properties\": {\"port.side\": \"EAST\", \"port.index\": 1}, \"width\": 0, \"height\": 0, \"wire\": {\"net\": 3, \"slice\": [0, 0], \"name\": \"out\"}, \"name\": \"out\"}], \"gate\": \"Not\", \"properties\": {\"portConstraints\": \"FIXED_ORDER\", \"nodeLabels.placement\": \"[H_LEFT, V_TOP, OUTSIDE]\", \"portLabels.placement\": \"OUTSIDE\"}, \"node_id\": 3}, {\"id\": \"And-4\", \"width\": 40, \"height\": 40, \"labels\": [{\"text\": \"\", \"id\": \"L_4\", \"width\": 0, \"height\": 10}], \"svg\": \"\\n            <path d=\\\"M 0,0\\n                     h 20\\n                     a 20,20,180,1,1,0,40\\n                     h -20\\n                     z\\\" />\\n        \", \"ports\": [{\"id\": \"P_And-4:b\", \"properties\": {\"port.side\": \"WEST\", \"port.index\": 0}, \"width\": 0, \"height\": 16, \"wire\": {\"net\": 1, \"slice\": [0, 0], \"name\": \"b\"}, \"name\": \"b\"}, {\"id\": \"P_And-4:a\", \"properties\": {\"port.side\": \"WEST\", \"port.index\": 1}, \"width\": 0, \"height\": 16, \"wire\": {\"net\": 3, \"slice\": [0, 0], \"name\": \"a\"}, \"name\": \"a\"}, {\"id\": \"P_And-4:out\", \"properties\": {\"port.side\": \"EAST\", \"port.index\": 2}, \"width\": 0, \"height\": 16, \"wire\": {\"net\": 7, \"slice\": [0, 0], \"name\": \"out\"}, \"name\": \"out\"}], \"gate\": \"And\", \"properties\": {\"portConstraints\": \"FIXED_ORDER\", \"nodeLabels.placement\": \"[H_LEFT, V_TOP, OUTSIDE]\", \"portLabels.placement\": \"OUTSIDE\"}, \"node_id\": 4}, {\"id\": \"Or-5\", \"width\": 40, \"height\": 40, \"labels\": [{\"text\": \"\", \"id\": \"L_5\", \"width\": 0, \"height\": 10}], \"svg\": \"\\n            <path d=\\\"M 0,0\\n                     h 5\\n                     q 25,0,35,20\\n                     q -10,20,-35,20\\n                     h -5\\n                     Q 10,20,0,0\\n                     z\\n                     M 0,10.5 h 4\\n                     M 0,29.5 h 4\\n                     \\\" />\\n        \", \"ports\": [{\"id\": \"P_Or-5:b\", \"properties\": {\"port.side\": \"WEST\", \"port.index\": 0}, \"width\": 0, \"height\": 16, \"wire\": {\"net\": 7, \"slice\": [0, 0], \"name\": \"b\"}, \"name\": \"b\"}, {\"id\": \"P_Or-5:a\", \"properties\": {\"port.side\": \"WEST\", \"port.index\": 1}, \"width\": 0, \"height\": 16, \"wire\": {\"net\": 6, \"slice\": [0, 0], \"name\": \"a\"}, \"name\": \"a\"}, {\"id\": \"P_Or-5:out\", \"properties\": {\"port.side\": \"EAST\", \"port.index\": 2}, \"width\": 0, \"height\": 16, \"wire\": {\"net\": 10, \"slice\": [0, 0], \"name\": \"out\"}, \"name\": \"out\"}], \"gate\": \"Or\", \"properties\": {\"portConstraints\": \"FIXED_ORDER\", \"nodeLabels.placement\": \"[H_LEFT, V_TOP, OUTSIDE]\", \"portLabels.placement\": \"OUTSIDE\"}, \"node_id\": 5}], \"ports\": [{\"id\": \"P_Xor:b\", \"properties\": {\"port.side\": \"WEST\", \"port.index\": 0}, \"width\": 8, \"height\": 8, \"labels\": [{\"id\": \"LPXor:b\", \"text\": \"b\", \"width\": 6, \"height\": 10}], \"wire\": {\"net\": 1, \"slice\": [0, 0], \"name\": \"b\"}, \"name\": \"b\"}, {\"id\": \"P_Xor:a\", \"properties\": {\"port.side\": \"WEST\", \"port.index\": 1}, \"width\": 8, \"height\": 8, \"labels\": [{\"id\": \"LPXor:a\", \"text\": \"a\", \"width\": 6, \"height\": 10}], \"wire\": {\"net\": 0, \"slice\": [0, 0], \"name\": \"a\"}, \"name\": \"a\"}, {\"id\": \"P_Xor:out\", \"properties\": {\"port.side\": \"EAST\", \"port.index\": 2}, \"width\": 8, \"height\": 8, \"labels\": [{\"id\": \"LPXor:out\", \"text\": \"out\", \"width\": 18, \"height\": 10}], \"wire\": {\"net\": 10, \"slice\": [0, 0], \"name\": \"out\"}, \"name\": \"out\"}], \"edges\": [{\"sources\": [\"P_Xor:a\"], \"targets\": [\"P_And-2:b\"], \"wire\": {\"net\": 0, \"slice\": [0, 0]}, \"dir\": \"in\", \"name\": \"a\", \"id\": \"E_0\"}, {\"sources\": [\"P_Xor:a\"], \"targets\": [\"P_Not-3:In\"], \"wire\": {\"net\": 0, \"slice\": [0, 0]}, \"dir\": \"in\", \"name\": \"a\", \"id\": \"E_1\"}, {\"sources\": [\"P_Xor:b\"], \"targets\": [\"P_Not-1:In\"], \"wire\": {\"net\": 1, \"slice\": [0, 0]}, \"dir\": \"in\", \"name\": \"b\", \"id\": \"E_2\"}, {\"sources\": [\"P_Xor:b\"], \"targets\": [\"P_And-4:b\"], \"wire\": {\"net\": 1, \"slice\": [0, 0]}, \"dir\": \"in\", \"name\": \"b\", \"id\": \"E_3\"}, {\"sources\": [\"P_Or-5:out\"], \"targets\": [\"P_Xor:out\"], \"wire\": {\"net\": 10, \"slice\": [0, 0]}, \"dir\": \"out\", \"name\": \"out\", \"id\": \"E_4\"}, {\"sources\": [\"P_Not-1:out\"], \"targets\": [\"P_And-2:a\"], \"wire\": {\"net\": 2, \"slice\": [0, 0]}, \"dir\": \"out\", \"name\": \"x\", \"id\": \"E_5\"}, {\"sources\": [\"P_And-2:out\"], \"targets\": [\"P_Or-5:a\"], \"wire\": {\"net\": 6, \"slice\": [0, 0]}, \"dir\": \"out\", \"name\": \"y\", \"id\": \"E_6\"}, {\"sources\": [\"P_Not-3:out\"], \"targets\": [\"P_And-4:a\"], \"wire\": {\"net\": 3, \"slice\": [0, 0]}, \"dir\": \"out\", \"name\": \"z\", \"id\": \"E_7\"}, {\"sources\": [\"P_And-4:out\"], \"targets\": [\"P_Or-5:b\"], \"wire\": {\"net\": 7, \"slice\": [0, 0]}, \"dir\": \"out\", \"name\": \"k\", \"id\": \"E_8\"}], \"gate\": \"Xor\", \"labels\": [{\"text\": \"Xor\", \"id\": \"L\", \"width\": 18, \"height\": 10}], \"properties\": {\"portConstraints\": \"FIXED_ORDER\", \"nodeLabels.placement\": \"[H_LEFT, V_TOP, OUTSIDE]\", \"portLabels.placement\": \"OUTSIDE\"}}, {\"id\": \"C_Xor:b\", \"type\": \"connector\", \"direction\": \"in\", \"width\": 20, \"height\": 16, \"ports\": [{\"id\": \"CP_Xor:b\", \"properties\": {\"port.side\": \"EAST\"}, \"width\": 0, \"height\": 0, \"type\": \"connector\"}], \"properties\": {\"portConstraints\": \"FIXED_ORDER\", \"nodeLabels.placement\": \"[H_CENTER, V_CENTER, INSIDE]\"}, \"wire\": {\"net\": 1, \"slice\": [0, 0], \"name\": \"b\"}}, {\"id\": \"C_Xor:a\", \"type\": \"connector\", \"direction\": \"in\", \"width\": 20, \"height\": 16, \"ports\": [{\"id\": \"CP_Xor:a\", \"properties\": {\"port.side\": \"EAST\"}, \"width\": 0, \"height\": 0, \"type\": \"connector\"}], \"properties\": {\"portConstraints\": \"FIXED_ORDER\", \"nodeLabels.placement\": \"[H_CENTER, V_CENTER, INSIDE]\"}, \"wire\": {\"net\": 0, \"slice\": [0, 0], \"name\": \"a\"}}, {\"id\": \"C_Xor:out\", \"type\": \"connector\", \"direction\": \"out\", \"width\": 20, \"height\": 16, \"ports\": [{\"id\": \"CP_Xor:out\", \"properties\": {\"port.side\": \"WEST\"}, \"width\": 0, \"height\": 0, \"type\": \"connector\"}], \"properties\": {\"portConstraints\": \"FIXED_ORDER\", \"nodeLabels.placement\": \"[H_CENTER, V_CENTER, INSIDE]\"}, \"wire\": {\"net\": 10, \"slice\": [0, 0], \"name\": \"out\"}}], \"edges\": [{\"sources\": [\"CP_Xor:b\"], \"targets\": [\"P_Xor:b\"], \"id\": \"CE_0\", \"wire\": {\"net\": 1, \"slice\": [0, 0], \"name\": \"b\"}, \"name\": \"b\"}, {\"sources\": [\"CP_Xor:a\"], \"targets\": [\"P_Xor:a\"], \"id\": \"CE_1\", \"wire\": {\"net\": 0, \"slice\": [0, 0], \"name\": \"a\"}, \"name\": \"a\"}, {\"sources\": [\"CP_Xor:out\"], \"targets\": [\"P_Xor:out\"], \"id\": \"CE_2\", \"wire\": {\"net\": 10, \"slice\": [0, 0], \"name\": \"out\"}, \"name\": \"out\"}]};\n",
              "\n",
              "var probe = [];\n",
              "\n",
              "var config = {\n",
              "  component: component,\n",
              "  graph: graph,\n",
              "  probe: probe,\n",
              "  inputScript: null\n",
              "};</script>"
            ]
          },
          "metadata": {}
        },
        {
          "output_type": "display_data",
          "data": {
            "text/html": [
              "\n",
              "        <link rel=\"stylesheet\" type=\"text/css\" href=\"https://ecourse.cpe.ku.ac.th/component-builder/compbuilder/css/styles.css?v=20240703-1\" />\n",
              "        <div id=\"interact-diagram-4\"></div>\n",
              "        <script>\n",
              "          compbuilder.create(\"#interact-diagram-4\",config);\n",
              "        </script>\n",
              "    "
            ]
          },
          "metadata": {}
        }
      ]
    },
    {
      "cell_type": "markdown",
      "metadata": {
        "id": "Aicve5COFZIe"
      },
      "source": [
        "นิสิตสามารถทดลองและเทสเกทที่สร้างขึ้นโดยพิมพ์โค้ดสำหรับ `trace`, `plot`, `interact` ได้ที่ส่วนด้านล่างนี้"
      ]
    },
    {
      "cell_type": "code",
      "metadata": {
        "id": "JyiiLsuNFlss"
      },
      "source": [
        "# พื้นที่ทดสอบ (ปรับเปลี่ยนตามต้องการ)\n",
        "interact(Not, depth=1)\n",
        "interact(And, depth=1)\n",
        "interact(Or, depth=1)\n",
        "interact(Xor, depth=1)"
      ],
      "execution_count": null,
      "outputs": []
    },
    {
      "cell_type": "markdown",
      "metadata": {
        "id": "8iwJ3m8wFnzb"
      },
      "source": [
        "### Test cases: Not, And, Or, Xor\n",
        "\n",
        "ด้านล่างเป็นรายการเทสเคส  โค้ดสำหรับเรียกแต่ละอันทำงานจะอยู่หลังแต่ละคลาส ขอให้แน่ใจว่ารันผ่านทุกเทสเคสโดยไม่มีข้อผิดพลาด"
      ]
    },
    {
      "cell_type": "code",
      "metadata": {
        "id": "80kPPZq-FsTA",
        "colab": {
          "base_uri": "https://localhost:8080/"
        },
        "outputId": "297eae9e-385e-4b9d-cb5d-07b68b9c14bc"
      },
      "source": [
        "class TestNotGate(unittest.TestCase):\n",
        "    def setUp(self):\n",
        "        self.not_gate = Not()\n",
        "\n",
        "    def test_input_F(self):\n",
        "        self.assertEqual(self.not_gate.eval_single(In=F), T)\n",
        "\n",
        "    def test_input_T(self):\n",
        "        self.assertEqual(self.not_gate.eval_single(In=T), F)\n",
        "\n",
        "    def test_inputTrace(self):\n",
        "        self.assertEqual(trace(self.not_gate, {'In':'0110'}, ['out']), {'out': '1001'})\n",
        "\n",
        "run_test(TestNotGate)"
      ],
      "execution_count": null,
      "outputs": [
        {
          "output_type": "stream",
          "name": "stderr",
          "text": [
            "...\n",
            "----------------------------------------------------------------------\n",
            "Ran 3 tests in 0.006s\n",
            "\n",
            "OK\n"
          ]
        }
      ]
    },
    {
      "cell_type": "code",
      "metadata": {
        "id": "eaLvf7wmQf5z",
        "colab": {
          "base_uri": "https://localhost:8080/"
        },
        "outputId": "4f402474-61ba-4052-ea8f-2b9a9b341efb"
      },
      "source": [
        "class TestAndGate(unittest.TestCase):\n",
        "    def setUp(self):\n",
        "        self.and_gate = And()\n",
        "\n",
        "    def test_inputTrace(self):\n",
        "        self.assertEqual(trace(self.and_gate, {'a':'0011', 'b':'0101'}, ['a','b','out']), {'a': '0011', 'b': '0101', 'out': '0001'})\n",
        "\n",
        "run_test(TestAndGate)"
      ],
      "execution_count": null,
      "outputs": [
        {
          "output_type": "stream",
          "name": "stderr",
          "text": [
            ".\n",
            "----------------------------------------------------------------------\n",
            "Ran 1 test in 0.003s\n",
            "\n",
            "OK\n"
          ]
        }
      ]
    },
    {
      "cell_type": "code",
      "metadata": {
        "id": "8B5j1oU3SUzh",
        "colab": {
          "base_uri": "https://localhost:8080/"
        },
        "outputId": "2168f2ed-f3ce-4b33-a8e9-d3d22958a924"
      },
      "source": [
        "class TestOrGate(unittest.TestCase):\n",
        "    def setUp(self):\n",
        "        self.or_gate = Or()\n",
        "\n",
        "    def test_inputTrace(self):\n",
        "        self.assertEqual(trace(self.or_gate, {'a':'0011', 'b':'0101'}, ['a','b','out']), {'a': '0011', 'b': '0101', 'out': '0111'})\n",
        "\n",
        "run_test(TestOrGate)"
      ],
      "execution_count": null,
      "outputs": [
        {
          "output_type": "stream",
          "name": "stderr",
          "text": [
            ".\n",
            "----------------------------------------------------------------------\n",
            "Ran 1 test in 0.002s\n",
            "\n",
            "OK\n"
          ]
        }
      ]
    },
    {
      "cell_type": "code",
      "metadata": {
        "id": "VunTu4QETUiF",
        "colab": {
          "base_uri": "https://localhost:8080/"
        },
        "outputId": "c26a4b46-b36c-4967-8b86-8ddd5950331e"
      },
      "source": [
        "class TestXorGate(unittest.TestCase):\n",
        "    def setUp(self):\n",
        "        self.xor_gate = Xor()\n",
        "\n",
        "    def test_inputTrace(self):\n",
        "        self.assertEqual(trace(self.xor_gate, {'a':'0011', 'b':'0101'}, ['a','b','out']), {'a': '0011', 'b': '0101', 'out': '0110'})\n",
        "\n",
        "run_test(TestXorGate)"
      ],
      "execution_count": null,
      "outputs": [
        {
          "output_type": "stream",
          "name": "stderr",
          "text": [
            ".\n",
            "----------------------------------------------------------------------\n",
            "Ran 1 test in 0.003s\n",
            "\n",
            "OK\n"
          ]
        }
      ]
    },
    {
      "cell_type": "markdown",
      "metadata": {
        "id": "z3KG2p2eTa3I"
      },
      "source": [
        "## Mux & DMux\n",
        "\n",
        "ให้เขียน multiplexor และ demultiplexor ด้านล่าง\n",
        "\n",
        "ตัวอย่างการทำงานแบบโต้ตอบ\n",
        "* [Multiplexor](https://ecourse.cpe.ku.ac.th/courses/comsys/demo/mux.html)\n",
        "* [Demultiplexor](https://ecourse.cpe.ku.ac.th/courses/comsys/demo/dmux.html)"
      ]
    },
    {
      "cell_type": "code",
      "metadata": {
        "id": "ek9Z49dpTsnW"
      },
      "source": [
        "# DO NOT ERASE THIS CELL - to be graded\n",
        "\n",
        "class Mux(Component):\n",
        "    IN = [w.a, w.b, w.sel]\n",
        "    OUT = [w.out]\n",
        "\n",
        "    PARTS = [\n",
        "        Not(In = w.sel , out = w.x),\n",
        "        And(a = w.x , b = w.a , out = w.y),\n",
        "        And(a = w.b , b = w.sel, out = w.z),\n",
        "        Or(a = w.y, b = w.z, out = w.out)\n",
        "    ]"
      ],
      "execution_count": null,
      "outputs": []
    },
    {
      "cell_type": "code",
      "source": [
        "interact(Mux,depth = 1)"
      ],
      "metadata": {
        "colab": {
          "base_uri": "https://localhost:8080/",
          "height": 213
        },
        "id": "_InJsUopV1oz",
        "outputId": "68f145bb-24c1-4b2b-c3aa-24249d256424"
      },
      "execution_count": null,
      "outputs": [
        {
          "output_type": "display_data",
          "data": {
            "text/html": [
              "\n",
              "        <script src=\"https://d3js.org/d3.v5.js\"></script>\n",
              "        <script src=\"https://cdn.jsdelivr.net/npm/elkjs@0.8.2/lib/elk.bundled.js\"></script>\n",
              "        <script src=\"https://ecourse.cpe.ku.ac.th/component-builder/compbuilder/js/component.js?v=20240703-1\"></script>\n",
              "        <script src=\"https://ecourse.cpe.ku.ac.th/component-builder/compbuilder/js/visual.js?v=20240703-1\"></script>\n",
              "        <script src=\"https://ecourse.cpe.ku.ac.th/component-builder/compbuilder/js/widgets.js?v=20240703-1\"></script>\n",
              "    "
            ]
          },
          "metadata": {}
        },
        {
          "output_type": "display_data",
          "data": {
            "text/html": [
              "<script>var compConfig = {\"parts\": [{\"name\": \"Mux\", \"config\": \"Mux\", \"wiring\": {\"a\": {\"net\": 0, \"slice\": [0, 0]}, \"b\": {\"net\": 1, \"slice\": [0, 0]}, \"sel\": {\"net\": 2, \"slice\": [0, 0]}, \"out\": {\"net\": 10, \"slice\": [0, 0]}}}, {\"name\": \"Nand-1-1\", \"config\": \"Nand\", \"wiring\": {\"a\": {\"net\": 2, \"slice\": [0, 0]}, \"b\": {\"net\": 2, \"slice\": [0, 0]}, \"out\": {\"net\": 3, \"slice\": [0, 0]}}}, {\"name\": \"Nand-2-1\", \"config\": \"Nand\", \"wiring\": {\"a\": {\"net\": 3, \"slice\": [0, 0]}, \"b\": {\"net\": 0, \"slice\": [0, 0]}, \"out\": {\"net\": 6, \"slice\": [0, 0]}}}, {\"name\": \"Nand-2-2-1\", \"config\": \"Nand\", \"wiring\": {\"a\": {\"net\": 6, \"slice\": [0, 0]}, \"b\": {\"net\": 6, \"slice\": [0, 0]}, \"out\": {\"net\": 7, \"slice\": [0, 0]}}}, {\"name\": \"Nand-3-1\", \"config\": \"Nand\", \"wiring\": {\"a\": {\"net\": 1, \"slice\": [0, 0]}, \"b\": {\"net\": 2, \"slice\": [0, 0]}, \"out\": {\"net\": 4, \"slice\": [0, 0]}}}, {\"name\": \"Nand-3-2-1\", \"config\": \"Nand\", \"wiring\": {\"a\": {\"net\": 4, \"slice\": [0, 0]}, \"b\": {\"net\": 4, \"slice\": [0, 0]}, \"out\": {\"net\": 5, \"slice\": [0, 0]}}}, {\"name\": \"Nand-4-1-1\", \"config\": \"Nand\", \"wiring\": {\"a\": {\"net\": 7, \"slice\": [0, 0]}, \"b\": {\"net\": 7, \"slice\": [0, 0]}, \"out\": {\"net\": 9, \"slice\": [0, 0]}}}, {\"name\": \"Nand-4-2-1\", \"config\": \"Nand\", \"wiring\": {\"a\": {\"net\": 5, \"slice\": [0, 0]}, \"b\": {\"net\": 5, \"slice\": [0, 0]}, \"out\": {\"net\": 8, \"slice\": [0, 0]}}}, {\"name\": \"Nand-4-3\", \"config\": \"Nand\", \"wiring\": {\"a\": {\"net\": 9, \"slice\": [0, 0]}, \"b\": {\"net\": 8, \"slice\": [0, 0]}, \"out\": {\"net\": 10, \"slice\": [0, 0]}}}], \"nets\": [{\"name\": \"Mux:a\", \"level\": 0, \"width\": 1, \"signal\": 0, \"sources\": [{\"part\": 0, \"wire\": \"a\"}], \"wiring\": {\"a\": {\"net\": 9, \"slice\": [0, 0]}, \"b\": {\"net\": 8, \"slice\": [0, 0]}, \"out\": {\"net\": 10, \"slice\": [0, 0]}}}, {\"name\": \"Mux:b\", \"level\": 0, \"width\": 1, \"signal\": 0, \"sources\": [{\"part\": 0, \"wire\": \"b\"}], \"wiring\": {\"a\": {\"net\": 9, \"slice\": [0, 0]}, \"b\": {\"net\": 8, \"slice\": [0, 0]}, \"out\": {\"net\": 10, \"slice\": [0, 0]}}}, {\"name\": \"Mux:sel\", \"level\": 0, \"width\": 1, \"signal\": 0, \"sources\": [{\"part\": 0, \"wire\": \"sel\"}], \"wiring\": {\"a\": {\"net\": 9, \"slice\": [0, 0]}, \"b\": {\"net\": 8, \"slice\": [0, 0]}, \"out\": {\"net\": 10, \"slice\": [0, 0]}}}, {\"name\": \"Mux:x\", \"level\": 1, \"width\": 1, \"signal\": 1, \"sources\": [{\"part\": 1, \"wire\": \"out\"}], \"wiring\": {\"a\": {\"net\": 9, \"slice\": [0, 0]}, \"b\": {\"net\": 8, \"slice\": [0, 0]}, \"out\": {\"net\": 10, \"slice\": [0, 0]}}}, {\"name\": \"And-3:x\", \"level\": 1, \"width\": 1, \"signal\": 1, \"sources\": [{\"part\": 4, \"wire\": \"out\"}], \"wiring\": {\"a\": {\"net\": 9, \"slice\": [0, 0]}, \"b\": {\"net\": 8, \"slice\": [0, 0]}, \"out\": {\"net\": 10, \"slice\": [0, 0]}}}, {\"name\": \"Mux:z\", \"level\": 2, \"width\": 1, \"signal\": 0, \"sources\": [{\"part\": 5, \"wire\": \"out\"}], \"wiring\": {\"a\": {\"net\": 9, \"slice\": [0, 0]}, \"b\": {\"net\": 8, \"slice\": [0, 0]}, \"out\": {\"net\": 10, \"slice\": [0, 0]}}}, {\"name\": \"And-2:x\", \"level\": 2, \"width\": 1, \"signal\": 1, \"sources\": [{\"part\": 2, \"wire\": \"out\"}], \"wiring\": {\"a\": {\"net\": 9, \"slice\": [0, 0]}, \"b\": {\"net\": 8, \"slice\": [0, 0]}, \"out\": {\"net\": 10, \"slice\": [0, 0]}}}, {\"name\": \"Mux:y\", \"level\": 3, \"width\": 1, \"signal\": 0, \"sources\": [{\"part\": 3, \"wire\": \"out\"}], \"wiring\": {\"a\": {\"net\": 9, \"slice\": [0, 0]}, \"b\": {\"net\": 8, \"slice\": [0, 0]}, \"out\": {\"net\": 10, \"slice\": [0, 0]}}}, {\"name\": \"Or-4:y\", \"level\": 3, \"width\": 1, \"signal\": 1, \"sources\": [{\"part\": 7, \"wire\": \"out\"}], \"wiring\": {\"a\": {\"net\": 9, \"slice\": [0, 0]}, \"b\": {\"net\": 8, \"slice\": [0, 0]}, \"out\": {\"net\": 10, \"slice\": [0, 0]}}}, {\"name\": \"Or-4:x\", \"level\": 4, \"width\": 1, \"signal\": 1, \"sources\": [{\"part\": 6, \"wire\": \"out\"}], \"wiring\": {\"a\": {\"net\": 9, \"slice\": [0, 0]}, \"b\": {\"net\": 8, \"slice\": [0, 0]}, \"out\": {\"net\": 10, \"slice\": [0, 0]}}}, {\"name\": \"Mux:out\", \"level\": 5, \"width\": 1, \"signal\": 0, \"sources\": [{\"part\": 8, \"wire\": \"out\"}], \"wiring\": {\"a\": {\"net\": 9, \"slice\": [0, 0]}, \"b\": {\"net\": 8, \"slice\": [0, 0]}, \"out\": {\"net\": 10, \"slice\": [0, 0]}}}]};\n",
              "\n",
              "compConfig.partConfigs = {\n",
              "  \"Mux\" : {\n",
              "    IN: [\"a\",\"b\",\"sel\"],\n",
              "    OUT: [\"out\"],\n",
              "  },\n",
              "  \"Nand\" : {\n",
              "    IN: [\"a\",\"b\"],\n",
              "    OUT: [\"out\"],\n",
              "    init: null,\n",
              "    process: {\n",
              "      \"out\" : function(w) { return (w.a==1) && (w.b==1) ? 0 : 1; },\n",
              "    }\n",
              "  }\n",
              "};\n",
              "\n",
              "var component = new Component(compConfig);\n",
              "\n",
              "var graph = {\"id\": \"$root\", \"children\": [{\"id\": \"Mux\", \"children\": [{\"id\": \"Not-1\", \"width\": 38, \"height\": 40, \"labels\": [{\"text\": \"\", \"id\": \"L_1\", \"width\": 0, \"height\": 10}], \"svg\": \"\\n            <path d=\\\"M 0,0\\n                     l 30,20\\n                     l -30,20\\n                     z\\\" />\\n            <circle cx=\\\"34\\\" cy=\\\"20\\\" r=\\\"4\\\"/>\\n        \", \"ports\": [{\"id\": \"P_Not-1:In\", \"properties\": {\"port.side\": \"WEST\", \"port.index\": 0}, \"width\": 0, \"height\": 0, \"wire\": {\"net\": 2, \"slice\": [0, 0], \"name\": \"In\"}, \"name\": \"In\"}, {\"id\": \"P_Not-1:out\", \"properties\": {\"port.side\": \"EAST\", \"port.index\": 1}, \"width\": 0, \"height\": 0, \"wire\": {\"net\": 3, \"slice\": [0, 0], \"name\": \"out\"}, \"name\": \"out\"}], \"gate\": \"Not\", \"properties\": {\"portConstraints\": \"FIXED_ORDER\", \"nodeLabels.placement\": \"[H_LEFT, V_TOP, OUTSIDE]\", \"portLabels.placement\": \"OUTSIDE\"}, \"node_id\": 1}, {\"id\": \"And-2\", \"width\": 40, \"height\": 40, \"labels\": [{\"text\": \"\", \"id\": \"L_2\", \"width\": 0, \"height\": 10}], \"svg\": \"\\n            <path d=\\\"M 0,0\\n                     h 20\\n                     a 20,20,180,1,1,0,40\\n                     h -20\\n                     z\\\" />\\n        \", \"ports\": [{\"id\": \"P_And-2:b\", \"properties\": {\"port.side\": \"WEST\", \"port.index\": 0}, \"width\": 0, \"height\": 16, \"wire\": {\"net\": 0, \"slice\": [0, 0], \"name\": \"b\"}, \"name\": \"b\"}, {\"id\": \"P_And-2:a\", \"properties\": {\"port.side\": \"WEST\", \"port.index\": 1}, \"width\": 0, \"height\": 16, \"wire\": {\"net\": 3, \"slice\": [0, 0], \"name\": \"a\"}, \"name\": \"a\"}, {\"id\": \"P_And-2:out\", \"properties\": {\"port.side\": \"EAST\", \"port.index\": 2}, \"width\": 0, \"height\": 16, \"wire\": {\"net\": 7, \"slice\": [0, 0], \"name\": \"out\"}, \"name\": \"out\"}], \"gate\": \"And\", \"properties\": {\"portConstraints\": \"FIXED_ORDER\", \"nodeLabels.placement\": \"[H_LEFT, V_TOP, OUTSIDE]\", \"portLabels.placement\": \"OUTSIDE\"}, \"node_id\": 2}, {\"id\": \"And-3\", \"width\": 40, \"height\": 40, \"labels\": [{\"text\": \"\", \"id\": \"L_3\", \"width\": 0, \"height\": 10}], \"svg\": \"\\n            <path d=\\\"M 0,0\\n                     h 20\\n                     a 20,20,180,1,1,0,40\\n                     h -20\\n                     z\\\" />\\n        \", \"ports\": [{\"id\": \"P_And-3:b\", \"properties\": {\"port.side\": \"WEST\", \"port.index\": 0}, \"width\": 0, \"height\": 16, \"wire\": {\"net\": 2, \"slice\": [0, 0], \"name\": \"b\"}, \"name\": \"b\"}, {\"id\": \"P_And-3:a\", \"properties\": {\"port.side\": \"WEST\", \"port.index\": 1}, \"width\": 0, \"height\": 16, \"wire\": {\"net\": 1, \"slice\": [0, 0], \"name\": \"a\"}, \"name\": \"a\"}, {\"id\": \"P_And-3:out\", \"properties\": {\"port.side\": \"EAST\", \"port.index\": 2}, \"width\": 0, \"height\": 16, \"wire\": {\"net\": 5, \"slice\": [0, 0], \"name\": \"out\"}, \"name\": \"out\"}], \"gate\": \"And\", \"properties\": {\"portConstraints\": \"FIXED_ORDER\", \"nodeLabels.placement\": \"[H_LEFT, V_TOP, OUTSIDE]\", \"portLabels.placement\": \"OUTSIDE\"}, \"node_id\": 3}, {\"id\": \"Or-4\", \"width\": 40, \"height\": 40, \"labels\": [{\"text\": \"\", \"id\": \"L_4\", \"width\": 0, \"height\": 10}], \"svg\": \"\\n            <path d=\\\"M 0,0\\n                     h 5\\n                     q 25,0,35,20\\n                     q -10,20,-35,20\\n                     h -5\\n                     Q 10,20,0,0\\n                     z\\n                     M 0,10.5 h 4\\n                     M 0,29.5 h 4\\n                     \\\" />\\n        \", \"ports\": [{\"id\": \"P_Or-4:b\", \"properties\": {\"port.side\": \"WEST\", \"port.index\": 0}, \"width\": 0, \"height\": 16, \"wire\": {\"net\": 5, \"slice\": [0, 0], \"name\": \"b\"}, \"name\": \"b\"}, {\"id\": \"P_Or-4:a\", \"properties\": {\"port.side\": \"WEST\", \"port.index\": 1}, \"width\": 0, \"height\": 16, \"wire\": {\"net\": 7, \"slice\": [0, 0], \"name\": \"a\"}, \"name\": \"a\"}, {\"id\": \"P_Or-4:out\", \"properties\": {\"port.side\": \"EAST\", \"port.index\": 2}, \"width\": 0, \"height\": 16, \"wire\": {\"net\": 10, \"slice\": [0, 0], \"name\": \"out\"}, \"name\": \"out\"}], \"gate\": \"Or\", \"properties\": {\"portConstraints\": \"FIXED_ORDER\", \"nodeLabels.placement\": \"[H_LEFT, V_TOP, OUTSIDE]\", \"portLabels.placement\": \"OUTSIDE\"}, \"node_id\": 4}], \"ports\": [{\"id\": \"P_Mux:sel\", \"properties\": {\"port.side\": \"WEST\", \"port.index\": 0}, \"width\": 8, \"height\": 8, \"labels\": [{\"id\": \"LPMux:sel\", \"text\": \"sel\", \"width\": 18, \"height\": 10}], \"wire\": {\"net\": 2, \"slice\": [0, 0], \"name\": \"sel\"}, \"name\": \"sel\"}, {\"id\": \"P_Mux:b\", \"properties\": {\"port.side\": \"WEST\", \"port.index\": 1}, \"width\": 8, \"height\": 8, \"labels\": [{\"id\": \"LPMux:b\", \"text\": \"b\", \"width\": 6, \"height\": 10}], \"wire\": {\"net\": 1, \"slice\": [0, 0], \"name\": \"b\"}, \"name\": \"b\"}, {\"id\": \"P_Mux:a\", \"properties\": {\"port.side\": \"WEST\", \"port.index\": 2}, \"width\": 8, \"height\": 8, \"labels\": [{\"id\": \"LPMux:a\", \"text\": \"a\", \"width\": 6, \"height\": 10}], \"wire\": {\"net\": 0, \"slice\": [0, 0], \"name\": \"a\"}, \"name\": \"a\"}, {\"id\": \"P_Mux:out\", \"properties\": {\"port.side\": \"EAST\", \"port.index\": 3}, \"width\": 8, \"height\": 8, \"labels\": [{\"id\": \"LPMux:out\", \"text\": \"out\", \"width\": 18, \"height\": 10}], \"wire\": {\"net\": 10, \"slice\": [0, 0], \"name\": \"out\"}, \"name\": \"out\"}], \"edges\": [{\"sources\": [\"P_Mux:a\"], \"targets\": [\"P_And-2:b\"], \"wire\": {\"net\": 0, \"slice\": [0, 0]}, \"dir\": \"in\", \"name\": \"a\", \"id\": \"E_0\"}, {\"sources\": [\"P_Mux:b\"], \"targets\": [\"P_And-3:a\"], \"wire\": {\"net\": 1, \"slice\": [0, 0]}, \"dir\": \"in\", \"name\": \"b\", \"id\": \"E_1\"}, {\"sources\": [\"P_Mux:sel\"], \"targets\": [\"P_Not-1:In\"], \"wire\": {\"net\": 2, \"slice\": [0, 0]}, \"dir\": \"in\", \"name\": \"sel\", \"id\": \"E_2\"}, {\"sources\": [\"P_Mux:sel\"], \"targets\": [\"P_And-3:b\"], \"wire\": {\"net\": 2, \"slice\": [0, 0]}, \"dir\": \"in\", \"name\": \"sel\", \"id\": \"E_3\"}, {\"sources\": [\"P_Or-4:out\"], \"targets\": [\"P_Mux:out\"], \"wire\": {\"net\": 10, \"slice\": [0, 0]}, \"dir\": \"out\", \"name\": \"out\", \"id\": \"E_4\"}, {\"sources\": [\"P_Not-1:out\"], \"targets\": [\"P_And-2:a\"], \"wire\": {\"net\": 3, \"slice\": [0, 0]}, \"dir\": \"out\", \"name\": \"x\", \"id\": \"E_5\"}, {\"sources\": [\"P_And-2:out\"], \"targets\": [\"P_Or-4:a\"], \"wire\": {\"net\": 7, \"slice\": [0, 0]}, \"dir\": \"out\", \"name\": \"y\", \"id\": \"E_6\"}, {\"sources\": [\"P_And-3:out\"], \"targets\": [\"P_Or-4:b\"], \"wire\": {\"net\": 5, \"slice\": [0, 0]}, \"dir\": \"out\", \"name\": \"z\", \"id\": \"E_7\"}], \"gate\": \"Mux\", \"labels\": [{\"text\": \"Mux\", \"id\": \"L\", \"width\": 18, \"height\": 10}], \"properties\": {\"portConstraints\": \"FIXED_ORDER\", \"nodeLabels.placement\": \"[H_LEFT, V_TOP, OUTSIDE]\", \"portLabels.placement\": \"OUTSIDE\"}}, {\"id\": \"C_Mux:sel\", \"type\": \"connector\", \"direction\": \"in\", \"width\": 20, \"height\": 16, \"ports\": [{\"id\": \"CP_Mux:sel\", \"properties\": {\"port.side\": \"EAST\"}, \"width\": 0, \"height\": 0, \"type\": \"connector\"}], \"properties\": {\"portConstraints\": \"FIXED_ORDER\", \"nodeLabels.placement\": \"[H_CENTER, V_CENTER, INSIDE]\"}, \"wire\": {\"net\": 2, \"slice\": [0, 0], \"name\": \"sel\"}}, {\"id\": \"C_Mux:b\", \"type\": \"connector\", \"direction\": \"in\", \"width\": 20, \"height\": 16, \"ports\": [{\"id\": \"CP_Mux:b\", \"properties\": {\"port.side\": \"EAST\"}, \"width\": 0, \"height\": 0, \"type\": \"connector\"}], \"properties\": {\"portConstraints\": \"FIXED_ORDER\", \"nodeLabels.placement\": \"[H_CENTER, V_CENTER, INSIDE]\"}, \"wire\": {\"net\": 1, \"slice\": [0, 0], \"name\": \"b\"}}, {\"id\": \"C_Mux:a\", \"type\": \"connector\", \"direction\": \"in\", \"width\": 20, \"height\": 16, \"ports\": [{\"id\": \"CP_Mux:a\", \"properties\": {\"port.side\": \"EAST\"}, \"width\": 0, \"height\": 0, \"type\": \"connector\"}], \"properties\": {\"portConstraints\": \"FIXED_ORDER\", \"nodeLabels.placement\": \"[H_CENTER, V_CENTER, INSIDE]\"}, \"wire\": {\"net\": 0, \"slice\": [0, 0], \"name\": \"a\"}}, {\"id\": \"C_Mux:out\", \"type\": \"connector\", \"direction\": \"out\", \"width\": 20, \"height\": 16, \"ports\": [{\"id\": \"CP_Mux:out\", \"properties\": {\"port.side\": \"WEST\"}, \"width\": 0, \"height\": 0, \"type\": \"connector\"}], \"properties\": {\"portConstraints\": \"FIXED_ORDER\", \"nodeLabels.placement\": \"[H_CENTER, V_CENTER, INSIDE]\"}, \"wire\": {\"net\": 10, \"slice\": [0, 0], \"name\": \"out\"}}], \"edges\": [{\"sources\": [\"CP_Mux:sel\"], \"targets\": [\"P_Mux:sel\"], \"id\": \"CE_0\", \"wire\": {\"net\": 2, \"slice\": [0, 0], \"name\": \"sel\"}, \"name\": \"sel\"}, {\"sources\": [\"CP_Mux:b\"], \"targets\": [\"P_Mux:b\"], \"id\": \"CE_1\", \"wire\": {\"net\": 1, \"slice\": [0, 0], \"name\": \"b\"}, \"name\": \"b\"}, {\"sources\": [\"CP_Mux:a\"], \"targets\": [\"P_Mux:a\"], \"id\": \"CE_2\", \"wire\": {\"net\": 0, \"slice\": [0, 0], \"name\": \"a\"}, \"name\": \"a\"}, {\"sources\": [\"CP_Mux:out\"], \"targets\": [\"P_Mux:out\"], \"id\": \"CE_3\", \"wire\": {\"net\": 10, \"slice\": [0, 0], \"name\": \"out\"}, \"name\": \"out\"}]};\n",
              "\n",
              "var probe = [];\n",
              "\n",
              "var config = {\n",
              "  component: component,\n",
              "  graph: graph,\n",
              "  probe: probe,\n",
              "  inputScript: null\n",
              "};</script>"
            ]
          },
          "metadata": {}
        },
        {
          "output_type": "display_data",
          "data": {
            "text/html": [
              "\n",
              "        <link rel=\"stylesheet\" type=\"text/css\" href=\"https://ecourse.cpe.ku.ac.th/component-builder/compbuilder/css/styles.css?v=20240703-1\" />\n",
              "        <div id=\"interact-diagram-5\"></div>\n",
              "        <script>\n",
              "          compbuilder.create(\"#interact-diagram-5\",config);\n",
              "        </script>\n",
              "    "
            ]
          },
          "metadata": {}
        }
      ]
    },
    {
      "cell_type": "code",
      "metadata": {
        "id": "X4mptrPOT2ff"
      },
      "source": [
        "# DO NOT ERASE THIS CELL - to be graded\n",
        "\n",
        "class DMux(Component):\n",
        "    IN = [w.In, w.sel]\n",
        "    OUT = [w.a, w.b]\n",
        "\n",
        "    PARTS = [\n",
        "        Not(In = w.sel, out = w.x),\n",
        "        And(a = w.In , b = w.x , out = w.a),\n",
        "        And(a = w.In , b = w.sel , out = w.b)\n",
        "    ]"
      ],
      "execution_count": null,
      "outputs": []
    },
    {
      "cell_type": "markdown",
      "metadata": {
        "id": "tXg3vsXyT_eJ"
      },
      "source": [
        "ทดลองกับเกทได้ที่ด้านล่างนี้"
      ]
    },
    {
      "cell_type": "code",
      "metadata": {
        "id": "LQHhfLCIUOUw",
        "colab": {
          "base_uri": "https://localhost:8080/",
          "height": 395
        },
        "outputId": "7dd9278e-bfbb-4cd8-ed40-28d2652c9997"
      },
      "source": [
        "# พื้นที่ทดสอบ (ปรับเปลี่ยนตามต้องการ)\n",
        "interact(Mux, depth=1)\n",
        "interact(DMux, depth=1)"
      ],
      "execution_count": null,
      "outputs": [
        {
          "output_type": "display_data",
          "data": {
            "text/html": [
              "\n",
              "        <script src=\"https://d3js.org/d3.v5.js\"></script>\n",
              "        <script src=\"https://cdn.jsdelivr.net/npm/elkjs@0.8.2/lib/elk.bundled.js\"></script>\n",
              "        <script src=\"https://ecourse.cpe.ku.ac.th/component-builder/compbuilder/js/component.js?v=20240703-1\"></script>\n",
              "        <script src=\"https://ecourse.cpe.ku.ac.th/component-builder/compbuilder/js/visual.js?v=20240703-1\"></script>\n",
              "        <script src=\"https://ecourse.cpe.ku.ac.th/component-builder/compbuilder/js/widgets.js?v=20240703-1\"></script>\n",
              "    "
            ]
          },
          "metadata": {}
        },
        {
          "output_type": "display_data",
          "data": {
            "text/html": [
              "<script>var compConfig = {\"parts\": [{\"name\": \"Mux\", \"config\": \"Mux\", \"wiring\": {\"a\": {\"net\": 0, \"slice\": [0, 0]}, \"b\": {\"net\": 1, \"slice\": [0, 0]}, \"sel\": {\"net\": 2, \"slice\": [0, 0]}, \"out\": {\"net\": 10, \"slice\": [0, 0]}}}, {\"name\": \"Nand-1-1\", \"config\": \"Nand\", \"wiring\": {\"a\": {\"net\": 2, \"slice\": [0, 0]}, \"b\": {\"net\": 2, \"slice\": [0, 0]}, \"out\": {\"net\": 3, \"slice\": [0, 0]}}}, {\"name\": \"Nand-2-1\", \"config\": \"Nand\", \"wiring\": {\"a\": {\"net\": 3, \"slice\": [0, 0]}, \"b\": {\"net\": 0, \"slice\": [0, 0]}, \"out\": {\"net\": 6, \"slice\": [0, 0]}}}, {\"name\": \"Nand-2-2-1\", \"config\": \"Nand\", \"wiring\": {\"a\": {\"net\": 6, \"slice\": [0, 0]}, \"b\": {\"net\": 6, \"slice\": [0, 0]}, \"out\": {\"net\": 7, \"slice\": [0, 0]}}}, {\"name\": \"Nand-3-1\", \"config\": \"Nand\", \"wiring\": {\"a\": {\"net\": 1, \"slice\": [0, 0]}, \"b\": {\"net\": 2, \"slice\": [0, 0]}, \"out\": {\"net\": 4, \"slice\": [0, 0]}}}, {\"name\": \"Nand-3-2-1\", \"config\": \"Nand\", \"wiring\": {\"a\": {\"net\": 4, \"slice\": [0, 0]}, \"b\": {\"net\": 4, \"slice\": [0, 0]}, \"out\": {\"net\": 5, \"slice\": [0, 0]}}}, {\"name\": \"Nand-4-1-1\", \"config\": \"Nand\", \"wiring\": {\"a\": {\"net\": 7, \"slice\": [0, 0]}, \"b\": {\"net\": 7, \"slice\": [0, 0]}, \"out\": {\"net\": 9, \"slice\": [0, 0]}}}, {\"name\": \"Nand-4-2-1\", \"config\": \"Nand\", \"wiring\": {\"a\": {\"net\": 5, \"slice\": [0, 0]}, \"b\": {\"net\": 5, \"slice\": [0, 0]}, \"out\": {\"net\": 8, \"slice\": [0, 0]}}}, {\"name\": \"Nand-4-3\", \"config\": \"Nand\", \"wiring\": {\"a\": {\"net\": 9, \"slice\": [0, 0]}, \"b\": {\"net\": 8, \"slice\": [0, 0]}, \"out\": {\"net\": 10, \"slice\": [0, 0]}}}], \"nets\": [{\"name\": \"Mux:a\", \"level\": 0, \"width\": 1, \"signal\": 0, \"sources\": [{\"part\": 0, \"wire\": \"a\"}], \"wiring\": {\"a\": {\"net\": 9, \"slice\": [0, 0]}, \"b\": {\"net\": 8, \"slice\": [0, 0]}, \"out\": {\"net\": 10, \"slice\": [0, 0]}}}, {\"name\": \"Mux:b\", \"level\": 0, \"width\": 1, \"signal\": 0, \"sources\": [{\"part\": 0, \"wire\": \"b\"}], \"wiring\": {\"a\": {\"net\": 9, \"slice\": [0, 0]}, \"b\": {\"net\": 8, \"slice\": [0, 0]}, \"out\": {\"net\": 10, \"slice\": [0, 0]}}}, {\"name\": \"Mux:sel\", \"level\": 0, \"width\": 1, \"signal\": 0, \"sources\": [{\"part\": 0, \"wire\": \"sel\"}], \"wiring\": {\"a\": {\"net\": 9, \"slice\": [0, 0]}, \"b\": {\"net\": 8, \"slice\": [0, 0]}, \"out\": {\"net\": 10, \"slice\": [0, 0]}}}, {\"name\": \"Mux:x\", \"level\": 1, \"width\": 1, \"signal\": 1, \"sources\": [{\"part\": 1, \"wire\": \"out\"}], \"wiring\": {\"a\": {\"net\": 9, \"slice\": [0, 0]}, \"b\": {\"net\": 8, \"slice\": [0, 0]}, \"out\": {\"net\": 10, \"slice\": [0, 0]}}}, {\"name\": \"And-3:x\", \"level\": 1, \"width\": 1, \"signal\": 1, \"sources\": [{\"part\": 4, \"wire\": \"out\"}], \"wiring\": {\"a\": {\"net\": 9, \"slice\": [0, 0]}, \"b\": {\"net\": 8, \"slice\": [0, 0]}, \"out\": {\"net\": 10, \"slice\": [0, 0]}}}, {\"name\": \"Mux:z\", \"level\": 2, \"width\": 1, \"signal\": 0, \"sources\": [{\"part\": 5, \"wire\": \"out\"}], \"wiring\": {\"a\": {\"net\": 9, \"slice\": [0, 0]}, \"b\": {\"net\": 8, \"slice\": [0, 0]}, \"out\": {\"net\": 10, \"slice\": [0, 0]}}}, {\"name\": \"And-2:x\", \"level\": 2, \"width\": 1, \"signal\": 1, \"sources\": [{\"part\": 2, \"wire\": \"out\"}], \"wiring\": {\"a\": {\"net\": 9, \"slice\": [0, 0]}, \"b\": {\"net\": 8, \"slice\": [0, 0]}, \"out\": {\"net\": 10, \"slice\": [0, 0]}}}, {\"name\": \"Mux:y\", \"level\": 3, \"width\": 1, \"signal\": 0, \"sources\": [{\"part\": 3, \"wire\": \"out\"}], \"wiring\": {\"a\": {\"net\": 9, \"slice\": [0, 0]}, \"b\": {\"net\": 8, \"slice\": [0, 0]}, \"out\": {\"net\": 10, \"slice\": [0, 0]}}}, {\"name\": \"Or-4:y\", \"level\": 3, \"width\": 1, \"signal\": 1, \"sources\": [{\"part\": 7, \"wire\": \"out\"}], \"wiring\": {\"a\": {\"net\": 9, \"slice\": [0, 0]}, \"b\": {\"net\": 8, \"slice\": [0, 0]}, \"out\": {\"net\": 10, \"slice\": [0, 0]}}}, {\"name\": \"Or-4:x\", \"level\": 4, \"width\": 1, \"signal\": 1, \"sources\": [{\"part\": 6, \"wire\": \"out\"}], \"wiring\": {\"a\": {\"net\": 9, \"slice\": [0, 0]}, \"b\": {\"net\": 8, \"slice\": [0, 0]}, \"out\": {\"net\": 10, \"slice\": [0, 0]}}}, {\"name\": \"Mux:out\", \"level\": 5, \"width\": 1, \"signal\": 0, \"sources\": [{\"part\": 8, \"wire\": \"out\"}], \"wiring\": {\"a\": {\"net\": 9, \"slice\": [0, 0]}, \"b\": {\"net\": 8, \"slice\": [0, 0]}, \"out\": {\"net\": 10, \"slice\": [0, 0]}}}]};\n",
              "\n",
              "compConfig.partConfigs = {\n",
              "  \"Mux\" : {\n",
              "    IN: [\"a\",\"b\",\"sel\"],\n",
              "    OUT: [\"out\"],\n",
              "  },\n",
              "  \"Nand\" : {\n",
              "    IN: [\"a\",\"b\"],\n",
              "    OUT: [\"out\"],\n",
              "    init: null,\n",
              "    process: {\n",
              "      \"out\" : function(w) { return (w.a==1) && (w.b==1) ? 0 : 1; },\n",
              "    }\n",
              "  }\n",
              "};\n",
              "\n",
              "var component = new Component(compConfig);\n",
              "\n",
              "var graph = {\"id\": \"$root\", \"children\": [{\"id\": \"Mux\", \"children\": [{\"id\": \"Not-1\", \"width\": 38, \"height\": 40, \"labels\": [{\"text\": \"\", \"id\": \"L_1\", \"width\": 0, \"height\": 10}], \"svg\": \"\\n            <path d=\\\"M 0,0\\n                     l 30,20\\n                     l -30,20\\n                     z\\\" />\\n            <circle cx=\\\"34\\\" cy=\\\"20\\\" r=\\\"4\\\"/>\\n        \", \"ports\": [{\"id\": \"P_Not-1:In\", \"properties\": {\"port.side\": \"WEST\", \"port.index\": 0}, \"width\": 0, \"height\": 0, \"wire\": {\"net\": 2, \"slice\": [0, 0], \"name\": \"In\"}, \"name\": \"In\"}, {\"id\": \"P_Not-1:out\", \"properties\": {\"port.side\": \"EAST\", \"port.index\": 1}, \"width\": 0, \"height\": 0, \"wire\": {\"net\": 3, \"slice\": [0, 0], \"name\": \"out\"}, \"name\": \"out\"}], \"gate\": \"Not\", \"properties\": {\"portConstraints\": \"FIXED_ORDER\", \"nodeLabels.placement\": \"[H_LEFT, V_TOP, OUTSIDE]\", \"portLabels.placement\": \"OUTSIDE\"}, \"node_id\": 1}, {\"id\": \"And-2\", \"width\": 40, \"height\": 40, \"labels\": [{\"text\": \"\", \"id\": \"L_2\", \"width\": 0, \"height\": 10}], \"svg\": \"\\n            <path d=\\\"M 0,0\\n                     h 20\\n                     a 20,20,180,1,1,0,40\\n                     h -20\\n                     z\\\" />\\n        \", \"ports\": [{\"id\": \"P_And-2:b\", \"properties\": {\"port.side\": \"WEST\", \"port.index\": 0}, \"width\": 0, \"height\": 16, \"wire\": {\"net\": 0, \"slice\": [0, 0], \"name\": \"b\"}, \"name\": \"b\"}, {\"id\": \"P_And-2:a\", \"properties\": {\"port.side\": \"WEST\", \"port.index\": 1}, \"width\": 0, \"height\": 16, \"wire\": {\"net\": 3, \"slice\": [0, 0], \"name\": \"a\"}, \"name\": \"a\"}, {\"id\": \"P_And-2:out\", \"properties\": {\"port.side\": \"EAST\", \"port.index\": 2}, \"width\": 0, \"height\": 16, \"wire\": {\"net\": 7, \"slice\": [0, 0], \"name\": \"out\"}, \"name\": \"out\"}], \"gate\": \"And\", \"properties\": {\"portConstraints\": \"FIXED_ORDER\", \"nodeLabels.placement\": \"[H_LEFT, V_TOP, OUTSIDE]\", \"portLabels.placement\": \"OUTSIDE\"}, \"node_id\": 2}, {\"id\": \"And-3\", \"width\": 40, \"height\": 40, \"labels\": [{\"text\": \"\", \"id\": \"L_3\", \"width\": 0, \"height\": 10}], \"svg\": \"\\n            <path d=\\\"M 0,0\\n                     h 20\\n                     a 20,20,180,1,1,0,40\\n                     h -20\\n                     z\\\" />\\n        \", \"ports\": [{\"id\": \"P_And-3:b\", \"properties\": {\"port.side\": \"WEST\", \"port.index\": 0}, \"width\": 0, \"height\": 16, \"wire\": {\"net\": 2, \"slice\": [0, 0], \"name\": \"b\"}, \"name\": \"b\"}, {\"id\": \"P_And-3:a\", \"properties\": {\"port.side\": \"WEST\", \"port.index\": 1}, \"width\": 0, \"height\": 16, \"wire\": {\"net\": 1, \"slice\": [0, 0], \"name\": \"a\"}, \"name\": \"a\"}, {\"id\": \"P_And-3:out\", \"properties\": {\"port.side\": \"EAST\", \"port.index\": 2}, \"width\": 0, \"height\": 16, \"wire\": {\"net\": 5, \"slice\": [0, 0], \"name\": \"out\"}, \"name\": \"out\"}], \"gate\": \"And\", \"properties\": {\"portConstraints\": \"FIXED_ORDER\", \"nodeLabels.placement\": \"[H_LEFT, V_TOP, OUTSIDE]\", \"portLabels.placement\": \"OUTSIDE\"}, \"node_id\": 3}, {\"id\": \"Or-4\", \"width\": 40, \"height\": 40, \"labels\": [{\"text\": \"\", \"id\": \"L_4\", \"width\": 0, \"height\": 10}], \"svg\": \"\\n            <path d=\\\"M 0,0\\n                     h 5\\n                     q 25,0,35,20\\n                     q -10,20,-35,20\\n                     h -5\\n                     Q 10,20,0,0\\n                     z\\n                     M 0,10.5 h 4\\n                     M 0,29.5 h 4\\n                     \\\" />\\n        \", \"ports\": [{\"id\": \"P_Or-4:b\", \"properties\": {\"port.side\": \"WEST\", \"port.index\": 0}, \"width\": 0, \"height\": 16, \"wire\": {\"net\": 5, \"slice\": [0, 0], \"name\": \"b\"}, \"name\": \"b\"}, {\"id\": \"P_Or-4:a\", \"properties\": {\"port.side\": \"WEST\", \"port.index\": 1}, \"width\": 0, \"height\": 16, \"wire\": {\"net\": 7, \"slice\": [0, 0], \"name\": \"a\"}, \"name\": \"a\"}, {\"id\": \"P_Or-4:out\", \"properties\": {\"port.side\": \"EAST\", \"port.index\": 2}, \"width\": 0, \"height\": 16, \"wire\": {\"net\": 10, \"slice\": [0, 0], \"name\": \"out\"}, \"name\": \"out\"}], \"gate\": \"Or\", \"properties\": {\"portConstraints\": \"FIXED_ORDER\", \"nodeLabels.placement\": \"[H_LEFT, V_TOP, OUTSIDE]\", \"portLabels.placement\": \"OUTSIDE\"}, \"node_id\": 4}], \"ports\": [{\"id\": \"P_Mux:sel\", \"properties\": {\"port.side\": \"WEST\", \"port.index\": 0}, \"width\": 8, \"height\": 8, \"labels\": [{\"id\": \"LPMux:sel\", \"text\": \"sel\", \"width\": 18, \"height\": 10}], \"wire\": {\"net\": 2, \"slice\": [0, 0], \"name\": \"sel\"}, \"name\": \"sel\"}, {\"id\": \"P_Mux:b\", \"properties\": {\"port.side\": \"WEST\", \"port.index\": 1}, \"width\": 8, \"height\": 8, \"labels\": [{\"id\": \"LPMux:b\", \"text\": \"b\", \"width\": 6, \"height\": 10}], \"wire\": {\"net\": 1, \"slice\": [0, 0], \"name\": \"b\"}, \"name\": \"b\"}, {\"id\": \"P_Mux:a\", \"properties\": {\"port.side\": \"WEST\", \"port.index\": 2}, \"width\": 8, \"height\": 8, \"labels\": [{\"id\": \"LPMux:a\", \"text\": \"a\", \"width\": 6, \"height\": 10}], \"wire\": {\"net\": 0, \"slice\": [0, 0], \"name\": \"a\"}, \"name\": \"a\"}, {\"id\": \"P_Mux:out\", \"properties\": {\"port.side\": \"EAST\", \"port.index\": 3}, \"width\": 8, \"height\": 8, \"labels\": [{\"id\": \"LPMux:out\", \"text\": \"out\", \"width\": 18, \"height\": 10}], \"wire\": {\"net\": 10, \"slice\": [0, 0], \"name\": \"out\"}, \"name\": \"out\"}], \"edges\": [{\"sources\": [\"P_Mux:a\"], \"targets\": [\"P_And-2:b\"], \"wire\": {\"net\": 0, \"slice\": [0, 0]}, \"dir\": \"in\", \"name\": \"a\", \"id\": \"E_0\"}, {\"sources\": [\"P_Mux:b\"], \"targets\": [\"P_And-3:a\"], \"wire\": {\"net\": 1, \"slice\": [0, 0]}, \"dir\": \"in\", \"name\": \"b\", \"id\": \"E_1\"}, {\"sources\": [\"P_Mux:sel\"], \"targets\": [\"P_Not-1:In\"], \"wire\": {\"net\": 2, \"slice\": [0, 0]}, \"dir\": \"in\", \"name\": \"sel\", \"id\": \"E_2\"}, {\"sources\": [\"P_Mux:sel\"], \"targets\": [\"P_And-3:b\"], \"wire\": {\"net\": 2, \"slice\": [0, 0]}, \"dir\": \"in\", \"name\": \"sel\", \"id\": \"E_3\"}, {\"sources\": [\"P_Or-4:out\"], \"targets\": [\"P_Mux:out\"], \"wire\": {\"net\": 10, \"slice\": [0, 0]}, \"dir\": \"out\", \"name\": \"out\", \"id\": \"E_4\"}, {\"sources\": [\"P_Not-1:out\"], \"targets\": [\"P_And-2:a\"], \"wire\": {\"net\": 3, \"slice\": [0, 0]}, \"dir\": \"out\", \"name\": \"x\", \"id\": \"E_5\"}, {\"sources\": [\"P_And-2:out\"], \"targets\": [\"P_Or-4:a\"], \"wire\": {\"net\": 7, \"slice\": [0, 0]}, \"dir\": \"out\", \"name\": \"y\", \"id\": \"E_6\"}, {\"sources\": [\"P_And-3:out\"], \"targets\": [\"P_Or-4:b\"], \"wire\": {\"net\": 5, \"slice\": [0, 0]}, \"dir\": \"out\", \"name\": \"z\", \"id\": \"E_7\"}], \"gate\": \"Mux\", \"labels\": [{\"text\": \"Mux\", \"id\": \"L\", \"width\": 18, \"height\": 10}], \"properties\": {\"portConstraints\": \"FIXED_ORDER\", \"nodeLabels.placement\": \"[H_LEFT, V_TOP, OUTSIDE]\", \"portLabels.placement\": \"OUTSIDE\"}}, {\"id\": \"C_Mux:sel\", \"type\": \"connector\", \"direction\": \"in\", \"width\": 20, \"height\": 16, \"ports\": [{\"id\": \"CP_Mux:sel\", \"properties\": {\"port.side\": \"EAST\"}, \"width\": 0, \"height\": 0, \"type\": \"connector\"}], \"properties\": {\"portConstraints\": \"FIXED_ORDER\", \"nodeLabels.placement\": \"[H_CENTER, V_CENTER, INSIDE]\"}, \"wire\": {\"net\": 2, \"slice\": [0, 0], \"name\": \"sel\"}}, {\"id\": \"C_Mux:b\", \"type\": \"connector\", \"direction\": \"in\", \"width\": 20, \"height\": 16, \"ports\": [{\"id\": \"CP_Mux:b\", \"properties\": {\"port.side\": \"EAST\"}, \"width\": 0, \"height\": 0, \"type\": \"connector\"}], \"properties\": {\"portConstraints\": \"FIXED_ORDER\", \"nodeLabels.placement\": \"[H_CENTER, V_CENTER, INSIDE]\"}, \"wire\": {\"net\": 1, \"slice\": [0, 0], \"name\": \"b\"}}, {\"id\": \"C_Mux:a\", \"type\": \"connector\", \"direction\": \"in\", \"width\": 20, \"height\": 16, \"ports\": [{\"id\": \"CP_Mux:a\", \"properties\": {\"port.side\": \"EAST\"}, \"width\": 0, \"height\": 0, \"type\": \"connector\"}], \"properties\": {\"portConstraints\": \"FIXED_ORDER\", \"nodeLabels.placement\": \"[H_CENTER, V_CENTER, INSIDE]\"}, \"wire\": {\"net\": 0, \"slice\": [0, 0], \"name\": \"a\"}}, {\"id\": \"C_Mux:out\", \"type\": \"connector\", \"direction\": \"out\", \"width\": 20, \"height\": 16, \"ports\": [{\"id\": \"CP_Mux:out\", \"properties\": {\"port.side\": \"WEST\"}, \"width\": 0, \"height\": 0, \"type\": \"connector\"}], \"properties\": {\"portConstraints\": \"FIXED_ORDER\", \"nodeLabels.placement\": \"[H_CENTER, V_CENTER, INSIDE]\"}, \"wire\": {\"net\": 10, \"slice\": [0, 0], \"name\": \"out\"}}], \"edges\": [{\"sources\": [\"CP_Mux:sel\"], \"targets\": [\"P_Mux:sel\"], \"id\": \"CE_0\", \"wire\": {\"net\": 2, \"slice\": [0, 0], \"name\": \"sel\"}, \"name\": \"sel\"}, {\"sources\": [\"CP_Mux:b\"], \"targets\": [\"P_Mux:b\"], \"id\": \"CE_1\", \"wire\": {\"net\": 1, \"slice\": [0, 0], \"name\": \"b\"}, \"name\": \"b\"}, {\"sources\": [\"CP_Mux:a\"], \"targets\": [\"P_Mux:a\"], \"id\": \"CE_2\", \"wire\": {\"net\": 0, \"slice\": [0, 0], \"name\": \"a\"}, \"name\": \"a\"}, {\"sources\": [\"CP_Mux:out\"], \"targets\": [\"P_Mux:out\"], \"id\": \"CE_3\", \"wire\": {\"net\": 10, \"slice\": [0, 0], \"name\": \"out\"}, \"name\": \"out\"}]};\n",
              "\n",
              "var probe = [];\n",
              "\n",
              "var config = {\n",
              "  component: component,\n",
              "  graph: graph,\n",
              "  probe: probe,\n",
              "  inputScript: null\n",
              "};</script>"
            ]
          },
          "metadata": {}
        },
        {
          "output_type": "display_data",
          "data": {
            "text/html": [
              "\n",
              "        <link rel=\"stylesheet\" type=\"text/css\" href=\"https://ecourse.cpe.ku.ac.th/component-builder/compbuilder/css/styles.css?v=20240703-1\" />\n",
              "        <div id=\"interact-diagram-8\"></div>\n",
              "        <script>\n",
              "          compbuilder.create(\"#interact-diagram-8\",config);\n",
              "        </script>\n",
              "    "
            ]
          },
          "metadata": {}
        },
        {
          "output_type": "display_data",
          "data": {
            "text/html": [
              "\n",
              "        <script src=\"https://d3js.org/d3.v5.js\"></script>\n",
              "        <script src=\"https://cdn.jsdelivr.net/npm/elkjs@0.8.2/lib/elk.bundled.js\"></script>\n",
              "        <script src=\"https://ecourse.cpe.ku.ac.th/component-builder/compbuilder/js/component.js?v=20240703-1\"></script>\n",
              "        <script src=\"https://ecourse.cpe.ku.ac.th/component-builder/compbuilder/js/visual.js?v=20240703-1\"></script>\n",
              "        <script src=\"https://ecourse.cpe.ku.ac.th/component-builder/compbuilder/js/widgets.js?v=20240703-1\"></script>\n",
              "    "
            ]
          },
          "metadata": {}
        },
        {
          "output_type": "display_data",
          "data": {
            "text/html": [
              "<script>var compConfig = {\"parts\": [{\"name\": \"DMux\", \"config\": \"DMux\", \"wiring\": {\"In\": {\"net\": 0, \"slice\": [0, 0]}, \"sel\": {\"net\": 1, \"slice\": [0, 0]}, \"a\": {\"net\": 6, \"slice\": [0, 0]}, \"b\": {\"net\": 4, \"slice\": [0, 0]}}}, {\"name\": \"Nand-1-1\", \"config\": \"Nand\", \"wiring\": {\"a\": {\"net\": 1, \"slice\": [0, 0]}, \"b\": {\"net\": 1, \"slice\": [0, 0]}, \"out\": {\"net\": 2, \"slice\": [0, 0]}}}, {\"name\": \"Nand-2-1\", \"config\": \"Nand\", \"wiring\": {\"a\": {\"net\": 0, \"slice\": [0, 0]}, \"b\": {\"net\": 2, \"slice\": [0, 0]}, \"out\": {\"net\": 5, \"slice\": [0, 0]}}}, {\"name\": \"Nand-2-2-1\", \"config\": \"Nand\", \"wiring\": {\"a\": {\"net\": 5, \"slice\": [0, 0]}, \"b\": {\"net\": 5, \"slice\": [0, 0]}, \"out\": {\"net\": 6, \"slice\": [0, 0]}}}, {\"name\": \"Nand-3-1\", \"config\": \"Nand\", \"wiring\": {\"a\": {\"net\": 0, \"slice\": [0, 0]}, \"b\": {\"net\": 1, \"slice\": [0, 0]}, \"out\": {\"net\": 3, \"slice\": [0, 0]}}}, {\"name\": \"Nand-3-2-1\", \"config\": \"Nand\", \"wiring\": {\"a\": {\"net\": 3, \"slice\": [0, 0]}, \"b\": {\"net\": 3, \"slice\": [0, 0]}, \"out\": {\"net\": 4, \"slice\": [0, 0]}}}], \"nets\": [{\"name\": \"DMux:In\", \"level\": 0, \"width\": 1, \"signal\": 0, \"sources\": [{\"part\": 0, \"wire\": \"In\"}], \"wiring\": {\"a\": {\"net\": 3, \"slice\": [0, 0]}, \"b\": {\"net\": 3, \"slice\": [0, 0]}, \"out\": {\"net\": 4, \"slice\": [0, 0]}}}, {\"name\": \"DMux:sel\", \"level\": 0, \"width\": 1, \"signal\": 0, \"sources\": [{\"part\": 0, \"wire\": \"sel\"}], \"wiring\": {\"a\": {\"net\": 3, \"slice\": [0, 0]}, \"b\": {\"net\": 3, \"slice\": [0, 0]}, \"out\": {\"net\": 4, \"slice\": [0, 0]}}}, {\"name\": \"DMux:x\", \"level\": 1, \"width\": 1, \"signal\": 1, \"sources\": [{\"part\": 1, \"wire\": \"out\"}], \"wiring\": {\"a\": {\"net\": 3, \"slice\": [0, 0]}, \"b\": {\"net\": 3, \"slice\": [0, 0]}, \"out\": {\"net\": 4, \"slice\": [0, 0]}}}, {\"name\": \"And-3:x\", \"level\": 1, \"width\": 1, \"signal\": 1, \"sources\": [{\"part\": 4, \"wire\": \"out\"}], \"wiring\": {\"a\": {\"net\": 3, \"slice\": [0, 0]}, \"b\": {\"net\": 3, \"slice\": [0, 0]}, \"out\": {\"net\": 4, \"slice\": [0, 0]}}}, {\"name\": \"DMux:b\", \"level\": 2, \"width\": 1, \"signal\": 0, \"sources\": [{\"part\": 5, \"wire\": \"out\"}], \"wiring\": {\"a\": {\"net\": 3, \"slice\": [0, 0]}, \"b\": {\"net\": 3, \"slice\": [0, 0]}, \"out\": {\"net\": 4, \"slice\": [0, 0]}}}, {\"name\": \"And-2:x\", \"level\": 2, \"width\": 1, \"signal\": 1, \"sources\": [{\"part\": 2, \"wire\": \"out\"}], \"wiring\": {\"a\": {\"net\": 3, \"slice\": [0, 0]}, \"b\": {\"net\": 3, \"slice\": [0, 0]}, \"out\": {\"net\": 4, \"slice\": [0, 0]}}}, {\"name\": \"DMux:a\", \"level\": 3, \"width\": 1, \"signal\": 0, \"sources\": [{\"part\": 3, \"wire\": \"out\"}], \"wiring\": {\"a\": {\"net\": 3, \"slice\": [0, 0]}, \"b\": {\"net\": 3, \"slice\": [0, 0]}, \"out\": {\"net\": 4, \"slice\": [0, 0]}}}]};\n",
              "\n",
              "compConfig.partConfigs = {\n",
              "  \"DMux\" : {\n",
              "    IN: [\"In\",\"sel\"],\n",
              "    OUT: [\"a\",\"b\"],\n",
              "  },\n",
              "  \"Nand\" : {\n",
              "    IN: [\"a\",\"b\"],\n",
              "    OUT: [\"out\"],\n",
              "    init: null,\n",
              "    process: {\n",
              "      \"out\" : function(w) { return (w.a==1) && (w.b==1) ? 0 : 1; },\n",
              "    }\n",
              "  }\n",
              "};\n",
              "\n",
              "var component = new Component(compConfig);\n",
              "\n",
              "var graph = {\"id\": \"$root\", \"children\": [{\"id\": \"DMux\", \"children\": [{\"id\": \"Not-1\", \"width\": 38, \"height\": 40, \"labels\": [{\"text\": \"\", \"id\": \"L_1\", \"width\": 0, \"height\": 10}], \"svg\": \"\\n            <path d=\\\"M 0,0\\n                     l 30,20\\n                     l -30,20\\n                     z\\\" />\\n            <circle cx=\\\"34\\\" cy=\\\"20\\\" r=\\\"4\\\"/>\\n        \", \"ports\": [{\"id\": \"P_Not-1:In\", \"properties\": {\"port.side\": \"WEST\", \"port.index\": 0}, \"width\": 0, \"height\": 0, \"wire\": {\"net\": 1, \"slice\": [0, 0], \"name\": \"In\"}, \"name\": \"In\"}, {\"id\": \"P_Not-1:out\", \"properties\": {\"port.side\": \"EAST\", \"port.index\": 1}, \"width\": 0, \"height\": 0, \"wire\": {\"net\": 2, \"slice\": [0, 0], \"name\": \"out\"}, \"name\": \"out\"}], \"gate\": \"Not\", \"properties\": {\"portConstraints\": \"FIXED_ORDER\", \"nodeLabels.placement\": \"[H_LEFT, V_TOP, OUTSIDE]\", \"portLabels.placement\": \"OUTSIDE\"}, \"node_id\": 1}, {\"id\": \"And-2\", \"width\": 40, \"height\": 40, \"labels\": [{\"text\": \"\", \"id\": \"L_2\", \"width\": 0, \"height\": 10}], \"svg\": \"\\n            <path d=\\\"M 0,0\\n                     h 20\\n                     a 20,20,180,1,1,0,40\\n                     h -20\\n                     z\\\" />\\n        \", \"ports\": [{\"id\": \"P_And-2:b\", \"properties\": {\"port.side\": \"WEST\", \"port.index\": 0}, \"width\": 0, \"height\": 16, \"wire\": {\"net\": 2, \"slice\": [0, 0], \"name\": \"b\"}, \"name\": \"b\"}, {\"id\": \"P_And-2:a\", \"properties\": {\"port.side\": \"WEST\", \"port.index\": 1}, \"width\": 0, \"height\": 16, \"wire\": {\"net\": 0, \"slice\": [0, 0], \"name\": \"a\"}, \"name\": \"a\"}, {\"id\": \"P_And-2:out\", \"properties\": {\"port.side\": \"EAST\", \"port.index\": 2}, \"width\": 0, \"height\": 16, \"wire\": {\"net\": 6, \"slice\": [0, 0], \"name\": \"out\"}, \"name\": \"out\"}], \"gate\": \"And\", \"properties\": {\"portConstraints\": \"FIXED_ORDER\", \"nodeLabels.placement\": \"[H_LEFT, V_TOP, OUTSIDE]\", \"portLabels.placement\": \"OUTSIDE\"}, \"node_id\": 2}, {\"id\": \"And-3\", \"width\": 40, \"height\": 40, \"labels\": [{\"text\": \"\", \"id\": \"L_3\", \"width\": 0, \"height\": 10}], \"svg\": \"\\n            <path d=\\\"M 0,0\\n                     h 20\\n                     a 20,20,180,1,1,0,40\\n                     h -20\\n                     z\\\" />\\n        \", \"ports\": [{\"id\": \"P_And-3:b\", \"properties\": {\"port.side\": \"WEST\", \"port.index\": 0}, \"width\": 0, \"height\": 16, \"wire\": {\"net\": 1, \"slice\": [0, 0], \"name\": \"b\"}, \"name\": \"b\"}, {\"id\": \"P_And-3:a\", \"properties\": {\"port.side\": \"WEST\", \"port.index\": 1}, \"width\": 0, \"height\": 16, \"wire\": {\"net\": 0, \"slice\": [0, 0], \"name\": \"a\"}, \"name\": \"a\"}, {\"id\": \"P_And-3:out\", \"properties\": {\"port.side\": \"EAST\", \"port.index\": 2}, \"width\": 0, \"height\": 16, \"wire\": {\"net\": 4, \"slice\": [0, 0], \"name\": \"out\"}, \"name\": \"out\"}], \"gate\": \"And\", \"properties\": {\"portConstraints\": \"FIXED_ORDER\", \"nodeLabels.placement\": \"[H_LEFT, V_TOP, OUTSIDE]\", \"portLabels.placement\": \"OUTSIDE\"}, \"node_id\": 3}], \"ports\": [{\"id\": \"P_DMux:sel\", \"properties\": {\"port.side\": \"WEST\", \"port.index\": 0}, \"width\": 8, \"height\": 8, \"labels\": [{\"id\": \"LPDMux:sel\", \"text\": \"sel\", \"width\": 18, \"height\": 10}], \"wire\": {\"net\": 1, \"slice\": [0, 0], \"name\": \"sel\"}, \"name\": \"sel\"}, {\"id\": \"P_DMux:In\", \"properties\": {\"port.side\": \"WEST\", \"port.index\": 1}, \"width\": 8, \"height\": 8, \"labels\": [{\"id\": \"LPDMux:In\", \"text\": \"In\", \"width\": 12, \"height\": 10}], \"wire\": {\"net\": 0, \"slice\": [0, 0], \"name\": \"In\"}, \"name\": \"In\"}, {\"id\": \"P_DMux:a\", \"properties\": {\"port.side\": \"EAST\", \"port.index\": 2}, \"width\": 8, \"height\": 8, \"labels\": [{\"id\": \"LPDMux:a\", \"text\": \"a\", \"width\": 6, \"height\": 10}], \"wire\": {\"net\": 6, \"slice\": [0, 0], \"name\": \"a\"}, \"name\": \"a\"}, {\"id\": \"P_DMux:b\", \"properties\": {\"port.side\": \"EAST\", \"port.index\": 3}, \"width\": 8, \"height\": 8, \"labels\": [{\"id\": \"LPDMux:b\", \"text\": \"b\", \"width\": 6, \"height\": 10}], \"wire\": {\"net\": 4, \"slice\": [0, 0], \"name\": \"b\"}, \"name\": \"b\"}], \"edges\": [{\"sources\": [\"P_DMux:In\"], \"targets\": [\"P_And-2:a\"], \"wire\": {\"net\": 0, \"slice\": [0, 0]}, \"dir\": \"in\", \"name\": \"In\", \"id\": \"E_0\"}, {\"sources\": [\"P_DMux:In\"], \"targets\": [\"P_And-3:a\"], \"wire\": {\"net\": 0, \"slice\": [0, 0]}, \"dir\": \"in\", \"name\": \"In\", \"id\": \"E_1\"}, {\"sources\": [\"P_DMux:sel\"], \"targets\": [\"P_Not-1:In\"], \"wire\": {\"net\": 1, \"slice\": [0, 0]}, \"dir\": \"in\", \"name\": \"sel\", \"id\": \"E_2\"}, {\"sources\": [\"P_DMux:sel\"], \"targets\": [\"P_And-3:b\"], \"wire\": {\"net\": 1, \"slice\": [0, 0]}, \"dir\": \"in\", \"name\": \"sel\", \"id\": \"E_3\"}, {\"sources\": [\"P_And-2:out\"], \"targets\": [\"P_DMux:a\"], \"wire\": {\"net\": 6, \"slice\": [0, 0]}, \"dir\": \"out\", \"name\": \"a\", \"id\": \"E_4\"}, {\"sources\": [\"P_And-3:out\"], \"targets\": [\"P_DMux:b\"], \"wire\": {\"net\": 4, \"slice\": [0, 0]}, \"dir\": \"out\", \"name\": \"b\", \"id\": \"E_5\"}, {\"sources\": [\"P_Not-1:out\"], \"targets\": [\"P_And-2:b\"], \"wire\": {\"net\": 2, \"slice\": [0, 0]}, \"dir\": \"out\", \"name\": \"x\", \"id\": \"E_6\"}], \"gate\": \"DMux\", \"labels\": [{\"text\": \"DMux\", \"id\": \"L\", \"width\": 24, \"height\": 10}], \"properties\": {\"portConstraints\": \"FIXED_ORDER\", \"nodeLabels.placement\": \"[H_LEFT, V_TOP, OUTSIDE]\", \"portLabels.placement\": \"OUTSIDE\"}}, {\"id\": \"C_DMux:sel\", \"type\": \"connector\", \"direction\": \"in\", \"width\": 20, \"height\": 16, \"ports\": [{\"id\": \"CP_DMux:sel\", \"properties\": {\"port.side\": \"EAST\"}, \"width\": 0, \"height\": 0, \"type\": \"connector\"}], \"properties\": {\"portConstraints\": \"FIXED_ORDER\", \"nodeLabels.placement\": \"[H_CENTER, V_CENTER, INSIDE]\"}, \"wire\": {\"net\": 1, \"slice\": [0, 0], \"name\": \"sel\"}}, {\"id\": \"C_DMux:In\", \"type\": \"connector\", \"direction\": \"in\", \"width\": 20, \"height\": 16, \"ports\": [{\"id\": \"CP_DMux:In\", \"properties\": {\"port.side\": \"EAST\"}, \"width\": 0, \"height\": 0, \"type\": \"connector\"}], \"properties\": {\"portConstraints\": \"FIXED_ORDER\", \"nodeLabels.placement\": \"[H_CENTER, V_CENTER, INSIDE]\"}, \"wire\": {\"net\": 0, \"slice\": [0, 0], \"name\": \"In\"}}, {\"id\": \"C_DMux:a\", \"type\": \"connector\", \"direction\": \"out\", \"width\": 20, \"height\": 16, \"ports\": [{\"id\": \"CP_DMux:a\", \"properties\": {\"port.side\": \"WEST\"}, \"width\": 0, \"height\": 0, \"type\": \"connector\"}], \"properties\": {\"portConstraints\": \"FIXED_ORDER\", \"nodeLabels.placement\": \"[H_CENTER, V_CENTER, INSIDE]\"}, \"wire\": {\"net\": 6, \"slice\": [0, 0], \"name\": \"a\"}}, {\"id\": \"C_DMux:b\", \"type\": \"connector\", \"direction\": \"out\", \"width\": 20, \"height\": 16, \"ports\": [{\"id\": \"CP_DMux:b\", \"properties\": {\"port.side\": \"WEST\"}, \"width\": 0, \"height\": 0, \"type\": \"connector\"}], \"properties\": {\"portConstraints\": \"FIXED_ORDER\", \"nodeLabels.placement\": \"[H_CENTER, V_CENTER, INSIDE]\"}, \"wire\": {\"net\": 4, \"slice\": [0, 0], \"name\": \"b\"}}], \"edges\": [{\"sources\": [\"CP_DMux:sel\"], \"targets\": [\"P_DMux:sel\"], \"id\": \"CE_0\", \"wire\": {\"net\": 1, \"slice\": [0, 0], \"name\": \"sel\"}, \"name\": \"sel\"}, {\"sources\": [\"CP_DMux:In\"], \"targets\": [\"P_DMux:In\"], \"id\": \"CE_1\", \"wire\": {\"net\": 0, \"slice\": [0, 0], \"name\": \"In\"}, \"name\": \"In\"}, {\"sources\": [\"CP_DMux:a\"], \"targets\": [\"P_DMux:a\"], \"id\": \"CE_2\", \"wire\": {\"net\": 6, \"slice\": [0, 0], \"name\": \"a\"}, \"name\": \"a\"}, {\"sources\": [\"CP_DMux:b\"], \"targets\": [\"P_DMux:b\"], \"id\": \"CE_3\", \"wire\": {\"net\": 4, \"slice\": [0, 0], \"name\": \"b\"}, \"name\": \"b\"}]};\n",
              "\n",
              "var probe = [];\n",
              "\n",
              "var config = {\n",
              "  component: component,\n",
              "  graph: graph,\n",
              "  probe: probe,\n",
              "  inputScript: null\n",
              "};</script>"
            ]
          },
          "metadata": {}
        },
        {
          "output_type": "display_data",
          "data": {
            "text/html": [
              "\n",
              "        <link rel=\"stylesheet\" type=\"text/css\" href=\"https://ecourse.cpe.ku.ac.th/component-builder/compbuilder/css/styles.css?v=20240703-1\" />\n",
              "        <div id=\"interact-diagram-9\"></div>\n",
              "        <script>\n",
              "          compbuilder.create(\"#interact-diagram-9\",config);\n",
              "        </script>\n",
              "    "
            ]
          },
          "metadata": {}
        }
      ]
    },
    {
      "cell_type": "markdown",
      "metadata": {
        "id": "g5x8wHrvURPW"
      },
      "source": [
        "### TestCase: Mux & DMux\n",
        "ให้แน่ใจว่ารันผ่านทุกเทสเคสโดยไม่มีข้อผิดพลาด"
      ]
    },
    {
      "cell_type": "code",
      "metadata": {
        "id": "-X7aZdjiUUNy",
        "colab": {
          "base_uri": "https://localhost:8080/"
        },
        "outputId": "12b84434-ed90-437b-f4ea-cba26324ede7"
      },
      "source": [
        "class TestMuxGate(unittest.TestCase):\n",
        "    def setUp(self):\n",
        "        self.mux_gate = Mux()\n",
        "\n",
        "    def test_inputTrace(self):\n",
        "        self.assertEqual(trace(self.mux_gate, {'a':'00110011', 'b':'01010101', 'sel':'00001111'}, ['out']), {'out':'00110101'})\n",
        "\n",
        "run_test(TestMuxGate)"
      ],
      "execution_count": null,
      "outputs": [
        {
          "output_type": "stream",
          "name": "stderr",
          "text": [
            ".\n",
            "----------------------------------------------------------------------\n",
            "Ran 1 test in 0.003s\n",
            "\n",
            "OK\n"
          ]
        }
      ]
    },
    {
      "cell_type": "code",
      "metadata": {
        "id": "mt4HL-E_UZ43",
        "colab": {
          "base_uri": "https://localhost:8080/"
        },
        "outputId": "ce9e858e-7aac-4258-b2b1-c8cc4d9f7f7c"
      },
      "source": [
        "class TestDMuxGate(unittest.TestCase):\n",
        "    def setUp(self):\n",
        "        self.dmux_gate = DMux()\n",
        "\n",
        "    def test_inputTrace(self):\n",
        "        self.assertEqual(trace(self.dmux_gate, {'In':'0011', 'sel':'0101'}, ['a', 'b']), {'a':'0010', 'b':'0001'})\n",
        "\n",
        "run_test(TestDMuxGate)"
      ],
      "execution_count": null,
      "outputs": [
        {
          "output_type": "stream",
          "name": "stderr",
          "text": [
            ".\n",
            "----------------------------------------------------------------------\n",
            "Ran 1 test in 0.002s\n",
            "\n",
            "OK\n"
          ]
        }
      ]
    }
  ]
}