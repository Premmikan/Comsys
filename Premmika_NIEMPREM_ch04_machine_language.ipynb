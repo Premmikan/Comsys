{
  "nbformat": 4,
  "nbformat_minor": 0,
  "metadata": {
    "colab": {
      "provenance": [],
      "include_colab_link": true
    },
    "kernelspec": {
      "name": "python3",
      "display_name": "Python 3"
    }
  },
  "cells": [
    {
      "cell_type": "markdown",
      "metadata": {
        "id": "view-in-github",
        "colab_type": "text"
      },
      "source": [
        "<a href=\"https://colab.research.google.com/github/Premmikan/Comsys/blob/main/Premmika_NIEMPREM_ch04_machine_language.ipynb\" target=\"_parent\"><img src=\"https://colab.research.google.com/assets/colab-badge.svg\" alt=\"Open In Colab\"/></a>"
      ]
    },
    {
      "cell_type": "markdown",
      "metadata": {
        "id": "idKXukiqh_CG"
      },
      "source": [
        "# Machine Language\n",
        "\n",
        "*ดัดแปลงจากโน้ตบุ๊คต้นฉบับโดย ผศ.ดร.จิตร์ทัศน์ ฝักเจริญผล ภาคต้น ปีการศึกษา 2563 และอ้างอิงเนื้อหาจากตำรา [The Elements of Computing Systems โดย Nisan และ Schocken](https://www.nand2tetris.org/book)*\n",
        "\n",
        "บทนี้เราจะศึกษาชุดคำสั่งภาษาเครื่อง (instruction set) ของสถาปัตยกรรม Hack computer นิสิตสามารถอ่านเอกสารประกอบได้ที่ [รากฐานระบบคอมพิวเตอร์: จากเม็ดทรายสู่ Hello, World! บทที่ 4](https://ecourse.cpe.ku.ac.th/courses/comsys/comsys-book.pdf#page=94) เป้าหมายของการทำปฏิบัติการนี้คือ\n",
        "\n",
        "* ทำความเข้าใจกับสถาปัตยกรรมของ Hack ผ่านทางการเขียนโปรแกรมภาษาแอสเซมบลี้ (Assembly) และดูรหัสภาษาเครื่อง เพื่อเป็นพื้นฐานในการพัฒนา Hack CPU ในบทเรียนหน้า\n",
        "* สร้างความคุ้นเคยกับกระบวนการแปลภาษาแอสเซมบลี้ไปยังรหัสคำสั่งภาษาเครื่อง เพื่อเตรียมตัวพัฒนาโปรแกรมแอสเซมเบลอร์ (Assembler) ขึ้นมาเองในบทเรียนต่อ ๆ ไป"
      ]
    },
    {
      "cell_type": "markdown",
      "metadata": {
        "id": "VcX8XCpRiYTy"
      },
      "source": [
        "ก่อนอื่นเราจะโหลดไลบรารีเช่นเคย"
      ]
    },
    {
      "cell_type": "code",
      "metadata": {
        "id": "FrHQmkqMUi4V"
      },
      "source": [
        "%%capture\n",
        "!rm -rf comp-sys-public-lib\n",
        "!wget -q -O - https://ecourse.cpe.ku.ac.th/courses/comsys/lib/ch04.tgz | tar zxf -\n",
        "!pip install -e comp-sys-public-lib\n",
        "!pip install -e comp-sys-public-lib/modules/component-builder\n",
        "import site; site.main()\n",
        "from course_ch04_init import *"
      ],
      "execution_count": null,
      "outputs": []
    },
    {
      "cell_type": "markdown",
      "metadata": {
        "id": "T2g9KrDPibkC"
      },
      "source": [
        "# สถาปัตยกรรม Hack computer\n",
        "\n",
        "ภายในซีพียูของ Hack computer มีรีจีสเตอร์สองตัวคือ A และ D ตัวละ 16 บิต ซีพียูเชื่อมอยู่กับหน่วยความจำสองชุดที่ใช้แอดเดรสแยกกัน\n",
        "\n",
        "1. **หน่วยความจำสำหรับเก็บโค้ด (instruction memory)** สร้างขึ้นจาก ROM ขนาด 32K เวิร์ด\n",
        "2. **หน่วยความจำเก็บข้อมูล (data memory)** ระบุแอดเดรสได้ 32K เวิร์ด แต่ไม่ได้นำมาเก็บข้อมูลได้ทั้งหมด โดยมีการจัดสรรพื้นที่แอดเดรสดังนี้\n",
        "    * แอดเดรส `0x0000` - `0x3FFF` เป็นหน่วยความจำจริง ๆ ที่ใช้งานได้ สร้างขึ้นจาก RAM ขนาด 16K เวิร์ด\n",
        "    * แอดเดรส `0x4000` - `0x5FFF` ใช้เข้าถึงหน้าจอแสดงผล\n",
        "    * แอดเดรส `0x6000` ใช้อ่านค่าจากคีย์บอร์ด\n",
        "\n",
        "ชุดคำสั่งของ Hack แบ่งเป็นสองกลุ่มคือ\n",
        "\n",
        "* A-instructions  ใช้สำหรับโหลดค่าเข้ารีจิสเตอร์ A\n",
        "* C-instructions  สำหรับคำนวณและกระโดด\n"
      ]
    },
    {
      "cell_type": "markdown",
      "metadata": {
        "id": "CsqxpXrEqUbv"
      },
      "source": [
        "## A-instruction\n",
        "A-instruction ใช้สำหรับโหลดค่าคงที่ลงสู่รีจีสเตอร์ A\n",
        "รูปแบบคำสั่งในรหัสภาษาเครื่อง 16 บิตเป็นดังนี้\n",
        "\n",
        "              1 1 1 1   1 1\n",
        "    bit:      5 4 3 2   1 0 9 8   7 6 5 4   3 2 1 0\n",
        "    A-inst:   0 v v v   v v v v   v v v v   v v v v\n",
        "\n",
        "โดย `vv...v` แทนค่าคงที่ขนาด 15 บิต\n",
        "\n",
        "เพื่อให้ง่ายต่อการจดจำและตีความ ภาษาแอสเซมบลี้ของ Hack กำหนดสัญลักษณ์ช่วยจำ หรือ *นีโมนิค (mnemonic)* สำหรับ A-instruction ด้วยอักขระ `@` ดังนี้\n",
        "\n",
        "    @<value>\n",
        "\n",
        "โดย `value` ระบุได้ 3 ประเภท ได้แก่\n",
        "\n",
        "1. ค่าคงที่จำนวนเต็มฐานสิบ\n",
        "2. *symbol* แทนตำแหน่งในหน่วยความจำ ROM ใช้ระบุตำแหน่งของคำสั่งที่จะกระโดดไปทำงาน (ดูตัวอย่าง `LOOP` ด้านล่าง)\n",
        "3. *symbol* แทนตำแหน่งในหน่วยความจำ RAM เพื่อใช้แทนตัวแปร รวมถึงคำเฉพาะที่ใช้แทนแอดเดรสพิเศษ เช่น\n",
        "    * `R0` - `R15` แทนแอดเดรส 0 - 15 (นำมาจำลองเป็นรีจีสเตอร์เสมือน)\n",
        "    * `SCREEN` แทนแอดเดรสเริ่มต้นของจอแสดงผล (0x4000)\n",
        "    * `KBD` แทนแอดเดรสของคีย์บอร์ด (0x6000)\n",
        "\n",
        "  ดูรายการ *symbol* ที่เป็นไปได้ทั้งหมดได้จาก[ตารางที่ 6.1 ของหนังสือ](https://ecourse.cpe.ku.ac.th/courses/comsys/comsys-book.pdf#page=127)\n",
        "\n",
        "ด้านล่างเป็นตัวอย่างโค้ดภาษาแอสเซมบลี้ที่มีแต่ A-instruction"
      ]
    },
    {
      "cell_type": "code",
      "metadata": {
        "id": "Ia78CmM-kT_N"
      },
      "source": [
        "ainst_demo = \"\"\"\n",
        "    @100\n",
        "    @200\n",
        "    @x\n",
        "(LOOP)\n",
        "    @50\n",
        "    @y\n",
        "    @LOOP\n",
        "    @SCREEN\n",
        "\"\"\""
      ],
      "execution_count": null,
      "outputs": []
    },
    {
      "cell_type": "markdown",
      "source": [
        "ใช้ฟังก์ชัน `listing` ที่ไลบรารีเตรียมไว้ให้เพื่อจัดรูปแบบและแสดงเลขที่อยู่ของคำสั่งในหน่วยความจำรอม ซึ่งมีรูปแบบการใช้งานดังนี้\n",
        "\n",
        "    listing(asm_code,    # โค้ดภาษาแอสเซมบลี้ในรูปสตริง\n",
        "            file=None)   # ชื่อไฟล์สำหรับเก็บผลลัพธ์ หากระบุเป็น None จะแสดงผลลัพธ์บนหน้าจอ\n",
        "\n",
        "ตัวอย่างเช่น"
      ],
      "metadata": {
        "id": "Wy8FqXFBZD1E"
      }
    },
    {
      "cell_type": "code",
      "source": [
        "listing(ainst_demo)"
      ],
      "metadata": {
        "id": "zMQNE3tZZFDj",
        "colab": {
          "base_uri": "https://localhost:8080/"
        },
        "outputId": "cde1d92b-626f-4982-801d-51bd3ffd2399"
      },
      "execution_count": null,
      "outputs": [
        {
          "output_type": "stream",
          "name": "stdout",
          "text": [
            "   0: @100\n",
            "   1: @200\n",
            "   2: @x\n",
            "      (LOOP)\n",
            "   3: @50\n",
            "   4: @y\n",
            "   5: @LOOP\n",
            "   6: @SCREEN\n"
          ]
        }
      ]
    },
    {
      "cell_type": "markdown",
      "metadata": {
        "id": "u2W92me8mcp9"
      },
      "source": [
        "**คำถามชวนคิด:** ให้พิจารณาคำสั่งด้านบน และแยกแยะว่าในแต่ละคำสั่งเป็นการใช้งาน A-instruction ในรูปแบบใด (จากสามแบบที่กล่าวมาข้างต้น)\n",
        "\n",
        "แม้การตีความคำสั่งภาษาแอสเซมบลี้เป็นรหัสภาษาเครื่องจะค่อนข้างง่ายและตรงไปตรงมา แต่เพื่อความสะดวกในการทำความเข้าใจเนื้อหาส่วนนี้ ไลบรารีของรายวิชาได้เตรียมฟังก์ชัน `assemble` สำหรับแปลโค้ดจากภาษาแอสเซมบลี้เป็นรหัสคำสั่งภาษาเครื่องไว้ให้แล้ว ทดลองใช้งานดังนี้"
      ]
    },
    {
      "cell_type": "code",
      "metadata": {
        "id": "nfPK8d4YkhBT",
        "colab": {
          "base_uri": "https://localhost:8080/"
        },
        "outputId": "a29b540c-c12f-4442-9bdc-ebf53af88aab"
      },
      "source": [
        "insts = assemble(ainst_demo)\n",
        "print(insts)"
      ],
      "execution_count": null,
      "outputs": [
        {
          "output_type": "stream",
          "name": "stdout",
          "text": [
            "[100, 200, 16, 50, 17, 3, 16384]\n"
          ]
        }
      ]
    },
    {
      "cell_type": "markdown",
      "metadata": {
        "id": "A_kx7_HdmvWH"
      },
      "source": [
        "ลองนำโค้ดข้างต้นมาพิมพ์ในรูปฐานสอง 16 บิต สังเกตว่าบิตซ้ายสุด (MSB) ของทุกคำสั่งเป็น 0 ทั้งหมด เนื่องจากทุกคำสั่งล้วนเป็น A-instruction\n",
        "\n",
        "**คำถามชวนคิด:** คำสั่งภาษาเครื่องในบรรทัด `@LOOP` `@x` `@y` และ `@SCREEN`  ถูกสร้างมาได้อย่างไร"
      ]
    },
    {
      "cell_type": "code",
      "metadata": {
        "id": "M-QLKEU4myS9",
        "colab": {
          "base_uri": "https://localhost:8080/"
        },
        "outputId": "f60b6f25-96ae-48d1-bd40-1318d7703023"
      },
      "source": [
        "for i in insts:\n",
        "    print(f'{i:016b}')"
      ],
      "execution_count": null,
      "outputs": [
        {
          "output_type": "stream",
          "name": "stdout",
          "text": [
            "0000000001100100\n",
            "0000000011001000\n",
            "0000000000010000\n",
            "0000000000110010\n",
            "0000000000010001\n",
            "0000000000000011\n",
            "0100000000000000\n"
          ]
        }
      ]
    },
    {
      "cell_type": "markdown",
      "metadata": {
        "id": "sszoIHzHmpQe"
      },
      "source": [
        "เราจะตรวจสอบการทำงานของโค้ดดังกล่าวบนคอมพิวเตอร์จำลองที่ใช้สถาปัตยกรรม Hack ด้วยฟังก์ชัน `simulate` ที่ไลบรารีเตรียมไว้ให้ โดยระบุอาร์กิวเมนต์ `memeory_display_slots` ไปด้วย เพื่อจำกัดตารางหน่วยความจำไม่ให้ยาวเกินไป"
      ]
    },
    {
      "cell_type": "code",
      "metadata": {
        "id": "dgBT6z0gkkVh",
        "colab": {
          "base_uri": "https://localhost:8080/",
          "height": 448
        },
        "outputId": "2d93bf69-7e3e-4110-96c3-d8c6887ac23b"
      },
      "source": [
        "simulate(insts, memory_display_slots=20)"
      ],
      "execution_count": null,
      "outputs": [
        {
          "output_type": "display_data",
          "data": {
            "text/html": [
              "\n",
              "<link rel=\"stylesheet\" href=\"https://jittat.gitlab.io/hacksim/sim.css\">\n",
              "<div id=\"sim-ui\">\n",
              "  <simulator v-bind:simulator=\"simulator\" memory-display-slots=\"20\" screen-scale=\"1\" v-bind:light-weight=\"false\" fastest-steps=\"103\"/>\n",
              "</div>\n",
              "<script>var exports = {};</script>\n",
              "<script src=\"https://cdn.jsdelivr.net/npm/vue/dist/vue.js\"></script>\n",
              "<script src=\"https://jittat.gitlab.io/hacksim/simulator.js\"></script>\n",
              "<script src=\"https://jittat.gitlab.io/hacksim/simulator-ui.js\"></script>\n",
              "<script>\n",
              "  var simulator = new HackSimulator();\n",
              "simulator.loadInstructions([100,200,16,50,17,3,16384]);\n",
              "  simulator.memoryWriteCallbacks.push(memUpdateCallback);\n",
              "  simulator.memoryWriteCallbacks.push(screenUpdateCallback);\n",
              "\n",
              "  var app = new Vue({\n",
              "    el: '#sim-ui',\n",
              "    data: {\n",
              "      simulator: simulator\n",
              "    }\n",
              "  });\n",
              "</script>\n"
            ]
          },
          "metadata": {}
        }
      ]
    },
    {
      "cell_type": "markdown",
      "metadata": {
        "id": "57sCo8p_nEKp"
      },
      "source": [
        "## C-instruction\n",
        "\n",
        "คำสั่งในกลุ่ม C-instruction ถือเป็นหัวใจหลักของสถาปัตยกรรม Hack คำสั่งในกลุ่มนี้รับผิดชอบเรื่องการคำนวณและตัดสินใจเพื่อควบคุมการไหลของโปรแกรม ภายใน C-instruction หนึ่งคำสั่งมีองค์ประกอบ 3 ส่วนคือ\n",
        "\n",
        "1. การคำนวณ (computation specification)\n",
        "2. ที่เก็บผลลัพธ์ (destination specification)\n",
        "3. รายละเอียดการกระโดด (jump specification)\n",
        "\n",
        "รูปแบบรหัสภาษาเครื่องของ C-instruction เป็นดังนี้\n",
        "\n",
        "              1 1 1 1   1 1\n",
        "    bit:      5 4 3 2   1 0 9 8   7 6 5 4   3 2 1 0\n",
        "    C-inst:   1 1 1 a   c c c c   c c d d   d j j j\n",
        "\n",
        "ฟิลด์ `a` และ `cc...c` เรียกรวมกันว่า compute field ใช้กำหนดค่าที่ต้องการคำนวณ ภาษาแอสเซมบลี้ของ Hack กำหนดนีโมนิคในรูปนิพจน์คำนวณดังตาราง\n",
        "\n",
        "![c-instr-compute-field.png](https://ecourse.cpe.ku.ac.th/courses/comsys/pics/c-instr-compute-field.png)\n",
        "\n",
        "**หมายเหตุ:** สังเกตว่าตารางมีการกำหนดแพทเทิร์นของบิตไว้ให้สอดคล้องกับขาควบคุมของ ALU ที่เราได้พัฒนาไปก่อนหน้านี้\n",
        "\n",
        "ฟิลด์ `ddd` เรียกว่า destination field ใช้กำหนดที่หมายเพื่อเก็บผลลัพธ์จากการคำนวณ เลือกที่หมายได้สามแห่งตามค่าของบิตทั้งสาม ได้แก่ รีจีสเตอร์ `A` `D` และ `M` ตามลำดับ โดย `M` หมายถึงตำแหน่งหน่วยความจำที่รีจีสเตอร์ ​`A` ชี้อยู่ ที่หมายทั้งสามนี้สามารถเลือกคละกันได้ หรือเลือกที่จะไม่เก็บผลลัพธ์เลยได้เช่นกัน ดังตารางด้านล่าง\n",
        "\n",
        "![c-instr-dest-field.png](https://ecourse.cpe.ku.ac.th/courses/comsys/pics/c-instr-dest-field.png)\n",
        "\n",
        "สุดท้ายคือฟิลด์ `jjj` ใช้ระบุเงื่อนไขการกระโดดตามตารางด้านล่าง ซึ่งหากตรงตามเงื่อนไขจะมีการกระโดดไปยังตำแหน่งหน่วยความจำคำสั่งที่ชี้ด้วยรีจีสเตอร์ `A` เสมอ ดังนั้นก่อนการกระโดดจึงมักต้องใช้ A-instruction เพื่อกำหนดที่หมายเอาไว้ก่อนล่วงหน้า\n",
        "\n",
        "![c-instr-jump-field.png](https://ecourse.cpe.ku.ac.th/courses/comsys/pics/c-instr-jump-field.png)\n",
        "\n",
        "### คำสั่งภาษาแอสเซมบลี้สำหรับ C-instruction\n",
        "\n",
        "รูปแบบคำสั่งภาษาแอสเซมบลี้ของ C-instruction แบบทั่วไปที่สุดคือ\n",
        "\n",
        "    <dest>=<comp>;<jump>\n",
        "\n",
        "โดย `dest` `comp` และ `jump` ต้องเขียนเป็นนีโมนิคตามที่ระบุใน 3 ตารางข้างต้นเท่านั้น\n",
        "\n",
        "หากไม่ต้องการใช้งานฟิลด์นั้น ๆ (ในตารางระบุนีโมนิคเป็น null) ให้ละเอาไว้ ซึ่งมี 2 กรณีคือ\n",
        "\n",
        "1. ถ้าไม่ต้องการกระโดด ให้เขียนในรูป\n",
        "\n",
        "       <dest>=<comp>\n",
        "\n",
        "2. ถ้าไม่ต้องการเก็บผลลัพธ์ของการคำนวณ ให้เขียนในรูป\n",
        "\n",
        "       <comp>;<jump>\n",
        "\n",
        "ส่วนฟิลด์คำนวณนั้นต้องมีการระบุเอาไว้เสมอ แม้จะไม่ต้องการคำนวณใด ๆ ก็ตาม เช่นหากต้องการกระโดดโดยไม่มีเงื่อนไข สามารถเขียนคำสั่งในรูป `0;JMP` ได้"
      ]
    },
    {
      "cell_type": "markdown",
      "metadata": {
        "id": "2ks3124Z9h45"
      },
      "source": [
        "### ตัวอย่างคำสั่งที่มีแต่การคำนวณ\n",
        "\n",
        "พิจารณาตัวอย่างคำสั่งดังนี้  เราเริ่มจากแสดงตัวอย่างการคำนวณทั่วไป\n",
        "\n",
        "    A=D+1\n",
        "    M=D+M\n",
        "    MD=D|M\n",
        "\n",
        "ทดลองแปลด้วยแอสเซมเบลอร์"
      ]
    },
    {
      "cell_type": "code",
      "metadata": {
        "id": "ltOGisdf9ruH",
        "colab": {
          "base_uri": "https://localhost:8080/"
        },
        "outputId": "c26730f6-e71c-408b-eb78-afb3e3a932e1"
      },
      "source": [
        "cinst_demo1 = '''\n",
        "    A=D+1\n",
        "    M=D+M\n",
        "    MD=D|M\n",
        "    A=A+1\n",
        "'''\n",
        "\n",
        "insts = assemble(cinst_demo1)\n",
        "for c, i in zip(cinst_demo1.strip().split(\"\\n\"), insts):\n",
        "    c = c.strip()\n",
        "    print(f'{c:10}{i:016b}')"
      ],
      "execution_count": null,
      "outputs": [
        {
          "output_type": "stream",
          "name": "stdout",
          "text": [
            "A=D+1     1110011111100000\n",
            "M=D+M     1111000010001000\n",
            "MD=D|M    1111010101011000\n",
            "A=A+1     1110110111100000\n"
          ]
        }
      ]
    },
    {
      "cell_type": "markdown",
      "metadata": {
        "id": "8-pjUSNO9ctE"
      },
      "source": [
        "แม้ว่าคำสั่งคำนวณจะมีส่วนที่ดูคล้ายคำสั่งในภาษาโปรแกรมระดับสูง เราไม่สามารถสั่งคำสั่งแบบด้านล่างได้\n",
        "\n",
        "    M=M+D   // ต้องเขียน M=D+M เท่านั้น\n",
        "    MA=D    // ต้องเขียน AM=D\n",
        "\n",
        "ทั้งนี้เนื่องจาก `<dest>` และ `<comp>` มีรูปแบบเฉพาะที่แปลงมาจากนีโมนิคที่นิยามให้กับของโค้ดภาษาเครื่อง ไม่ได้เกิดจากการตีความนิพจน์ทางคณิตศาสตร์\n",
        " (ยกเว้นจะแก้แอสเซมเบลอร์ให้ฉลาดเกินกว่าที่จำเป็น)\n",
        "\n",
        "ถ้าพยายามแปลจะพบความผิดพลาดดังนี้"
      ]
    },
    {
      "cell_type": "code",
      "metadata": {
        "id": "YmQbZdUS-hKs",
        "colab": {
          "base_uri": "https://localhost:8080/"
        },
        "outputId": "6b251879-50a3-4fa4-e9ae-87e9af81b067"
      },
      "source": [
        "assemble('M=D+M')"
      ],
      "execution_count": null,
      "outputs": [
        {
          "output_type": "execute_result",
          "data": {
            "text/plain": [
              "[61576]"
            ]
          },
          "metadata": {},
          "execution_count": 28
        }
      ]
    },
    {
      "cell_type": "code",
      "metadata": {
        "id": "s-gi1Fc_-w7Q",
        "colab": {
          "base_uri": "https://localhost:8080/"
        },
        "outputId": "4a7fc852-f473-4622-eb4d-25433b248043"
      },
      "source": [
        "assemble('AM=D')"
      ],
      "execution_count": null,
      "outputs": [
        {
          "output_type": "execute_result",
          "data": {
            "text/plain": [
              "[58152]"
            ]
          },
          "metadata": {},
          "execution_count": 29
        }
      ]
    },
    {
      "cell_type": "markdown",
      "metadata": {
        "id": "3zW1pRvh9f1_"
      },
      "source": [
        "### ตัวอย่างคำสั่งที่มีการกระโดด\n",
        "\n",
        "ด้านล่างแสดงโค้ดที่เปรียบเทียบ `A` กับ `D` และกระโดดไปตำแหน่ง `DEST` ถ้า `A` มากกว่า `D` สังเกตว่าเราต้องลบค่า `A` กับ `D` แล้วเก็บผลลัพธ์ไว้ใน `D` ก่อน เพราะต้องนำเอารีจีสเตอร์ `A` มาโหลดตำแหน่ง `DEST` สำหรับการกระโดด จากนั้นจึงค่อยตรวจสอบค่า `D` และกระโดดตามเงื่อนไขที่ระบุ\n",
        "\n",
        "        D=A-D\n",
        "        @DEST\n",
        "        D;JGT\n",
        "        ...\n",
        "    (DEST)\n",
        "        ...\n",
        "\n",
        "ส่วนด้านล่างเป็นตัวอย่างการเขียนการกระโดดแบบบังคับ `0;JMP`  ซึ่งเราจะพบรูปแบบนี้ตอนท้ายโปรแกรมต่าง ๆ เพื่อจบโปรแกรม (ทำให้โปรแกรมวนลูปอยู่ที่สองบรรทัดนี้)\n",
        "\n",
        "    (DONE)\n",
        "        @DONE\n",
        "        0;JMP\n",
        "\n",
        "**ข้อสังเกต** เห็นได้ว่าการอ้างตำแหน่งใน*หน่วยความจำเก็บข้อมูล (RAM)* ด้วยสัญลักษณ์ `M` ไม่ว่าจะอ่านหรือเขียนจะอาศัยค่าจากรีจิสเตอร์ `A` ในการอ้างอิงเสมอ ส่วนการกระโดดนั้นใช้ค่าในรีจีสเตอร์ `A` ระบุตำแหน่งใน*หน่วยความจำเก็บคำสั่ง (ROM)* ซึ่งเป็นหน่วยความจำคนละส่วน ดังนั้นโปรแกรมที่เขียนอย่างถูกต้องจึงไม่ควรมีคำสั่งที่มีทั้ง `M` และการกระโดดปรากฏรวมอยู่ในคำสั่งเดียวกัน\n",
        "\n",
        "(อย่าลืมดูรายละเอียดอื่น ๆ ในหนังสือเพิ่มเติม)"
      ]
    },
    {
      "cell_type": "markdown",
      "metadata": {
        "id": "xtFcTKLAtlaU"
      },
      "source": [
        "### ทดลองการกระโดดแบบมีเงื่อนไข\n",
        "\n",
        "โปรแกรมด้านล่างจะนำค่าใน `R0` ลบด้วย `R1` (หน่วยความจำตำแหน่งที่  0 และ 1 ตามลำดับ) และจะกระโดดไปทำงานที่ `YES` หรือไปที่ `END` ตามเงื่อนไขการกระโดด\n",
        "\n",
        "ให้ทดลองเปลี่ยนค่าใน `R0` และ `R1` โดยกดที่ช่องใน RAM จะมีให้ใส่ค่าได้ ทดลองเปลี่ยนคำสั่งกระโดดต่าง ๆ และทดลองสั่งให้ทำงาน\n",
        "\n",
        "**หมายเหตุ:** ให้สังเกตรหัสภาษาเครื่องของคำสั่ง `@END` และ `@YES` ด้วย  ให้ลองคิดล่วงหน้าว่าเมื่อเราจะต้องพัฒนาแอสเซมเบลอร์ด้วยตนเองควรทำอย่างไร (จะต้องทำในสัปดาห์ถัด ๆ ไป)"
      ]
    },
    {
      "cell_type": "code",
      "metadata": {
        "id": "TyTmcBmNt-mW",
        "colab": {
          "base_uri": "https://localhost:8080/",
          "height": 406
        },
        "outputId": "c044df8c-c17f-47ef-ea55-74e371243168"
      },
      "source": [
        "jump_demo = '''\n",
        "    @R0\n",
        "    D=M\n",
        "    @R1\n",
        "    D=D-M\n",
        "    @YES\n",
        "    D;JGT\n",
        "(END)\n",
        "    @END\n",
        "    0;JMP\n",
        "(YES)\n",
        "    @YES\n",
        "    0;JMP\n",
        "'''\n",
        "\n",
        "simulate(assemble(jump_demo), memory_display_slots=15)"
      ],
      "execution_count": null,
      "outputs": [
        {
          "output_type": "display_data",
          "data": {
            "text/html": [
              "\n",
              "<link rel=\"stylesheet\" href=\"https://jittat.gitlab.io/hacksim/sim.css\">\n",
              "<div id=\"sim-ui\">\n",
              "  <simulator v-bind:simulator=\"simulator\" memory-display-slots=\"15\" screen-scale=\"1\" v-bind:light-weight=\"false\" fastest-steps=\"103\"/>\n",
              "</div>\n",
              "<script>var exports = {};</script>\n",
              "<script src=\"https://cdn.jsdelivr.net/npm/vue/dist/vue.js\"></script>\n",
              "<script src=\"https://jittat.gitlab.io/hacksim/simulator.js\"></script>\n",
              "<script src=\"https://jittat.gitlab.io/hacksim/simulator-ui.js\"></script>\n",
              "<script>\n",
              "  var simulator = new HackSimulator();\n",
              "simulator.loadInstructions([0,64528,1,62672,8,58113,6,60039,8,60039]);\n",
              "  simulator.memoryWriteCallbacks.push(memUpdateCallback);\n",
              "  simulator.memoryWriteCallbacks.push(screenUpdateCallback);\n",
              "\n",
              "  var app = new Vue({\n",
              "    el: '#sim-ui',\n",
              "    data: {\n",
              "      simulator: simulator\n",
              "    }\n",
              "  });\n",
              "</script>\n"
            ]
          },
          "metadata": {}
        }
      ]
    },
    {
      "cell_type": "markdown",
      "metadata": {
        "id": "cxtARiV_nMQu"
      },
      "source": [
        "## ทดลองโปรแกรมบวกเลขตั้งแต่ 1 - N\n",
        "\n",
        "ด้านล่างเป็นโค้ดภาษาแอสเซมบลี้สำหรับคำนวนผลบวก 1 ถึง `N` โดยเก็บค่า `N` เอาไว้ใน `R0`\n",
        "\n",
        "**ข้อสังเกต:**\n",
        "เราใช้ชื่อ `i` และ `sum` ซึ่งแอสเซมเบลอร์จะตีความเป็นตัวแปรและหาตำแหน่งให้เราโดยอัตโนมัติ โดยเริ่มตั้งแต่ตำแหน่ง 16, 17, ... ไปเรื่อย ๆ (ขอให้คิดเอาไว้ล่วงหน้าว่าเมื่อเราต้องเขียนแอสเซมเบลอร์เองจะต้องทำอย่างไร)\n",
        "\n",
        "**คำถามชวนคิด:** ตัวแปร `i` และ `sum` ถูกกำหนดให้อยู่ที่หน่วยความจำตำแหน่งใด"
      ]
    },
    {
      "cell_type": "code",
      "metadata": {
        "id": "2Ypi10gzUkdG"
      },
      "source": [
        "sum_1_to_N = \"\"\"\n",
        "// Adds 1+...+N, where N is stored in R0\n",
        "\t@i\n",
        "\tM=1\n",
        "\t@sum\n",
        "\tM=0\n",
        "(LOOP)\n",
        "\t@i\n",
        "\tD=M\t    // D=i\n",
        "\t@R0\n",
        "    A=M     // A=N\n",
        "\tD=D-A\t// D=i-N\n",
        "\t@END\n",
        "\tD;JGT\t// If (i-N)>0 goto END\n",
        "\t@i\n",
        "\tD=M\n",
        "\t@sum\n",
        "\tM=D+M\n",
        "\t@i\n",
        "\tM=M+1\n",
        "\t@LOOP\n",
        "\t0;JMP\n",
        "(END)\n",
        "\t@END\n",
        "\t0;JMP\n",
        "\"\"\""
      ],
      "execution_count": null,
      "outputs": []
    },
    {
      "cell_type": "markdown",
      "metadata": {
        "id": "bbRVaEMQp767"
      },
      "source": [
        "ระบุค่า `R0` โดยคลิก RAM ตำแหน่งที่ 0 แล้วป้อนค่าสำหรับ `N` ลงไป จากนั้นกด Start"
      ]
    },
    {
      "cell_type": "code",
      "metadata": {
        "id": "fczlpD77p9O5",
        "colab": {
          "base_uri": "https://localhost:8080/",
          "height": 637
        },
        "outputId": "7c43d20b-f6fb-4453-cb00-e768e59f8c7a"
      },
      "source": [
        "simulate(assemble(sum_1_to_N))"
      ],
      "execution_count": null,
      "outputs": [
        {
          "output_type": "display_data",
          "data": {
            "text/html": [
              "\n",
              "<link rel=\"stylesheet\" href=\"https://jittat.gitlab.io/hacksim/sim.css\">\n",
              "<div id=\"sim-ui\">\n",
              "  <simulator v-bind:simulator=\"simulator\" memory-display-slots=\"30\" screen-scale=\"1\" v-bind:light-weight=\"false\" fastest-steps=\"103\"/>\n",
              "</div>\n",
              "<script>var exports = {};</script>\n",
              "<script src=\"https://cdn.jsdelivr.net/npm/vue/dist/vue.js\"></script>\n",
              "<script src=\"https://jittat.gitlab.io/hacksim/simulator.js\"></script>\n",
              "<script src=\"https://jittat.gitlab.io/hacksim/simulator-ui.js\"></script>\n",
              "<script>\n",
              "  var simulator = new HackSimulator();\n",
              "simulator.loadInstructions([16,61384,17,60040,16,64528,0,64544,58576,19,58113,16,64528,17,61576,16,64968,4,60039,19,60039]);\n",
              "  simulator.memoryWriteCallbacks.push(memUpdateCallback);\n",
              "  simulator.memoryWriteCallbacks.push(screenUpdateCallback);\n",
              "\n",
              "  var app = new Vue({\n",
              "    el: '#sim-ui',\n",
              "    data: {\n",
              "      simulator: simulator\n",
              "    }\n",
              "  });\n",
              "</script>\n"
            ]
          },
          "metadata": {}
        }
      ]
    },
    {
      "cell_type": "markdown",
      "metadata": {
        "id": "Y026apiznqBT"
      },
      "source": [
        "## ทดลองคีย์บอร์ดกับจอแสดงผล\n",
        "\n",
        "โค้ดต่อไปนี้เขียนให้ทำงานซ้ำ ๆ กันเพื่ออ่านค่าจากสถานะการกดคีย์บอร์ด (จำลอง)\n",
        "ที่อ่านได้จากหน่วยความจำข้อมูล ณ เลขที่อยู่ 0x6000 ซึ่งสามารถใช้ชื่อพิเศษ `KBD`\n",
        "ในการอ้างถึงได้ จากนั้นส่งค่าที่ได้ไปยังเลขที่อยู่ของจอแสดงผล ซึ่งเริ่มต้นที่ 0x4000 ซึ่งอ้างถึงได้ด้วยชื่อพิเศษ `SCREEN`\n",
        "เพื่อให้เห็นค่าของคีย์ได้ชัดเจนขึ้น ค่าคีย์จะถูกวางติดกัน 4 แถวบนหน้าจอ\n",
        "ซึ่งการอ้างเลขที่อยู่ของเวิร์ดแรกสุดในแถวที่ $i$ ของหน้าจอสามารถคำนวณได้จากสูตร\n",
        "`0x4000 + 32*i` เนื่องจากจอหนึ่งแถวมีจำนวน 512 จุด\n",
        "ในหนึ่งแถวจึงเทียบเท่ากับข้อมูล 512/16 = 32 เวิร์ด\n"
      ]
    },
    {
      "cell_type": "code",
      "metadata": {
        "id": "zO_wEY5xnpRY"
      },
      "source": [
        "kbd_scr_test = \"\"\"\n",
        "(START)\n",
        "    @KBD\n",
        "    D=M\n",
        "    @SCREEN\n",
        "    M=D\n",
        "    @16416\n",
        "    M=D\n",
        "    @16448\n",
        "    M=D\n",
        "    @16480\n",
        "    M=D\n",
        "    @START\n",
        "    0;JMP\n",
        "\"\"\""
      ],
      "execution_count": null,
      "outputs": []
    },
    {
      "cell_type": "markdown",
      "metadata": {
        "id": "umZdVEyZ_2rq"
      },
      "source": [
        "ทดลองรัน กดปุ่มที่คีย์บอร์ดจำลองและสังเกตการเปลี่ยนแปลงบนจอแสดงผลจำลอง"
      ]
    },
    {
      "cell_type": "code",
      "metadata": {
        "id": "dh_WM2pgoBB4",
        "colab": {
          "base_uri": "https://localhost:8080/",
          "height": 637
        },
        "outputId": "385d514c-45d3-4fe7-d469-e880846d1223"
      },
      "source": [
        "simulate(assemble(kbd_scr_test))"
      ],
      "execution_count": null,
      "outputs": [
        {
          "output_type": "display_data",
          "data": {
            "text/html": [
              "\n",
              "<link rel=\"stylesheet\" href=\"https://jittat.gitlab.io/hacksim/sim.css\">\n",
              "<div id=\"sim-ui\">\n",
              "  <simulator v-bind:simulator=\"simulator\" memory-display-slots=\"30\" screen-scale=\"1\" v-bind:light-weight=\"false\" fastest-steps=\"103\"/>\n",
              "</div>\n",
              "<script>var exports = {};</script>\n",
              "<script src=\"https://cdn.jsdelivr.net/npm/vue/dist/vue.js\"></script>\n",
              "<script src=\"https://jittat.gitlab.io/hacksim/simulator.js\"></script>\n",
              "<script src=\"https://jittat.gitlab.io/hacksim/simulator-ui.js\"></script>\n",
              "<script>\n",
              "  var simulator = new HackSimulator();\n",
              "simulator.loadInstructions([24576,64528,16384,58120,16416,58120,16448,58120,16480,58120,0,60039]);\n",
              "  simulator.memoryWriteCallbacks.push(memUpdateCallback);\n",
              "  simulator.memoryWriteCallbacks.push(screenUpdateCallback);\n",
              "\n",
              "  var app = new Vue({\n",
              "    el: '#sim-ui',\n",
              "    data: {\n",
              "      simulator: simulator\n",
              "    }\n",
              "  });\n",
              "</script>\n"
            ]
          },
          "metadata": {}
        }
      ]
    },
    {
      "cell_type": "markdown",
      "metadata": {
        "id": "1a3yQIg9Xe3H"
      },
      "source": [
        "# แบบฝึกหัด"
      ]
    },
    {
      "cell_type": "markdown",
      "metadata": {
        "id": "zSb6sEzwYfoW"
      },
      "source": [
        "## 1. `Add.asm` - โปรแกรมบวกเลข\n",
        "\n",
        "เขียนโปรแกรมภาษาแอสเซมบลี้ของสถาปัตยกรรม Hack ที่หาผลบวกของค่าที่อยู่ใน `R0` และ `R1` แล้วเก็บผลลัพธ์ไว้ใน `R2`"
      ]
    },
    {
      "cell_type": "code",
      "metadata": {
        "id": "EENANuifYzhr"
      },
      "source": [
        "# DO NOT ERASE THIS CELL - to be graded\n",
        "Add_asm = '''\n",
        "// Adds R0 and R1 and stores the result in R2\n",
        "// (R0, R1, R2 refer to RAM[0], RAM[1], and RAM[2], respectively.)\n",
        "\n",
        "// put your code here\n",
        "  @R0\n",
        "  D=M\n",
        "  @R1\n",
        "  D=D+M\n",
        "  @R2\n",
        "  M=D\n",
        "\n",
        "\n",
        "// Do not remove the following three lines\n",
        "(END)\n",
        "    @END\n",
        "    0;JMP\n",
        "'''"
      ],
      "execution_count": null,
      "outputs": []
    },
    {
      "cell_type": "code",
      "metadata": {
        "id": "pHuHMhAPdSIm",
        "colab": {
          "base_uri": "https://localhost:8080/",
          "height": 637
        },
        "outputId": "424e95d4-3d7c-43c9-c077-c80a1ac2a62f"
      },
      "source": [
        "# พื้นที่ทดสอบ (ปรับเปลี่ยนตามต้องการ)\n",
        "simulate(assemble(Add_asm))"
      ],
      "execution_count": null,
      "outputs": [
        {
          "output_type": "display_data",
          "data": {
            "text/html": [
              "\n",
              "<link rel=\"stylesheet\" href=\"https://jittat.gitlab.io/hacksim/sim.css\">\n",
              "<div id=\"sim-ui\">\n",
              "  <simulator v-bind:simulator=\"simulator\" memory-display-slots=\"30\" screen-scale=\"1\" v-bind:light-weight=\"false\" fastest-steps=\"103\"/>\n",
              "</div>\n",
              "<script>var exports = {};</script>\n",
              "<script src=\"https://cdn.jsdelivr.net/npm/vue/dist/vue.js\"></script>\n",
              "<script src=\"https://jittat.gitlab.io/hacksim/simulator.js\"></script>\n",
              "<script src=\"https://jittat.gitlab.io/hacksim/simulator-ui.js\"></script>\n",
              "<script>\n",
              "  var simulator = new HackSimulator();\n",
              "simulator.loadInstructions([0,64528,1,61584,2,58120,6,60039]);\n",
              "  simulator.memoryWriteCallbacks.push(memUpdateCallback);\n",
              "  simulator.memoryWriteCallbacks.push(screenUpdateCallback);\n",
              "\n",
              "  var app = new Vue({\n",
              "    el: '#sim-ui',\n",
              "    data: {\n",
              "      simulator: simulator\n",
              "    }\n",
              "  });\n",
              "</script>\n"
            ]
          },
          "metadata": {}
        }
      ]
    },
    {
      "cell_type": "markdown",
      "metadata": {
        "id": "YEyYj_rDeIt_"
      },
      "source": [
        "### Test case"
      ]
    },
    {
      "cell_type": "code",
      "metadata": {
        "id": "cN6enlSPdnzY"
      },
      "source": [
        "from compbuilder.n2t.cpu_sim import PureHackCPU\n",
        "\n",
        "class TestAsmBase(unittest.TestCase):\n",
        "    def setUp(self):\n",
        "        self.cpu = PureHackCPU()\n",
        "\n",
        "    def assemble_and_run(self, code, max_steps=1000000):\n",
        "        self.cpu.reset()\n",
        "        instrs = assemble(code)\n",
        "        self.cpu.load_instructions(instrs)\n",
        "        self.cpu.run(max_steps, output_traces=False, until_pc=len(instrs)-1)"
      ],
      "execution_count": null,
      "outputs": []
    },
    {
      "cell_type": "code",
      "metadata": {
        "id": "Fjrq3Jv9edRu",
        "colab": {
          "base_uri": "https://localhost:8080/"
        },
        "outputId": "80116060-8fa9-4539-f358-be83a642593d"
      },
      "source": [
        "class TestAsmAdd(TestAsmBase):\n",
        "    def run_add(self, num0, num1):\n",
        "        self.cpu.ram[0] = num0 % 65536\n",
        "        self.cpu.ram[1] = num1 % 65536\n",
        "        self.assemble_and_run(Add_asm)\n",
        "        self.assertEqual(self.cpu.ram[2], (num0+num1) % 65536)\n",
        "\n",
        "    def test_add1(self):\n",
        "        self.run_add(5, 20)\n",
        "\n",
        "    def test_add2(self):\n",
        "        self.run_add(5, -2)\n",
        "\n",
        "    def test_add3(self):\n",
        "        self.run_add(-30000, 20)\n",
        "\n",
        "    def test_add4(self):\n",
        "        self.run_add(-30000, -2)\n",
        "\n",
        "run_test(TestAsmAdd)"
      ],
      "execution_count": null,
      "outputs": [
        {
          "output_type": "stream",
          "name": "stderr",
          "text": [
            "....\n",
            "----------------------------------------------------------------------\n",
            "Ran 4 tests in 0.005s\n",
            "\n",
            "OK\n"
          ]
        }
      ]
    },
    {
      "cell_type": "markdown",
      "metadata": {
        "id": "osExlJhYobuK"
      },
      "source": [
        "## 2. `Mult.asm` - โปรแกรมหาผลคูณ\n",
        "\n",
        "เขียนโปรแกรมภาษาแอสเซมบลี้ของสถาปัตยกรรม Hack ที่หาผลคูณของค่าที่อยู่ใน `R0` และ `R1` แล้วเก็บผลลัพธ์ไว้ใน `R2`\n",
        "\n",
        "**หมายเหตุ:** ถ้าโปรแกรมของคุณยาว สามารถแบ่งโค้ดเป็นหลายส่วนแล้วค่อยมาต่อกันด้วย `+` ก่อนเรียก `assemble` ได้"
      ]
    },
    {
      "cell_type": "code",
      "metadata": {
        "id": "3Zkz4-u0ojAc"
      },
      "source": [
        "# DO NOT ERASE THIS CELL - to be graded\n",
        "Mult_asm = '''\n",
        "// Multiplies R0 and R1 and stores the result in R2.\n",
        "// (R0, R1, R2 refer to RAM[0], RAM[1], and RAM[2], respectively.)\n",
        "\n",
        "// Put your code here.\n",
        "\t@R1\n",
        "\tD=M\n",
        "\t@i\n",
        "\tM=D\n",
        "(LOOP)\n",
        "\t@R0\n",
        "\tD=M\n",
        "\t@R2\n",
        "\tM=D+M\n",
        "\t@i\n",
        "\tM=M-1\n",
        "\tD=M\n",
        "\t@END\n",
        "\tD;JEQ\n",
        "\t@LOOP\n",
        "\t0;JMP\n",
        "\n",
        "// Do not remove the following three lines\n",
        "(END)\n",
        "    @END\n",
        "    0;JMP\n",
        "'''"
      ],
      "execution_count": null,
      "outputs": []
    },
    {
      "cell_type": "code",
      "metadata": {
        "id": "bddNM8bHAIwG",
        "colab": {
          "base_uri": "https://localhost:8080/",
          "height": 637
        },
        "outputId": "4e67c013-02b6-409d-d966-73aa916cd282"
      },
      "source": [
        "# พื้นที่ทดสอบ (ปรับเปลี่ยนตามต้องการ)\n",
        "simulate(assemble(Mult_asm))"
      ],
      "execution_count": null,
      "outputs": [
        {
          "output_type": "display_data",
          "data": {
            "text/html": [
              "\n",
              "<link rel=\"stylesheet\" href=\"https://jittat.gitlab.io/hacksim/sim.css\">\n",
              "<div id=\"sim-ui\">\n",
              "  <simulator v-bind:simulator=\"simulator\" memory-display-slots=\"30\" screen-scale=\"1\" v-bind:light-weight=\"false\" fastest-steps=\"103\"/>\n",
              "</div>\n",
              "<script>var exports = {};</script>\n",
              "<script src=\"https://cdn.jsdelivr.net/npm/vue/dist/vue.js\"></script>\n",
              "<script src=\"https://jittat.gitlab.io/hacksim/simulator.js\"></script>\n",
              "<script src=\"https://jittat.gitlab.io/hacksim/simulator-ui.js\"></script>\n",
              "<script>\n",
              "  var simulator = new HackSimulator();\n",
              "simulator.loadInstructions([1,64528,16,58120,0,64528,2,61576,16,64648,64528,15,58114,4,60039,15,60039]);\n",
              "  simulator.memoryWriteCallbacks.push(memUpdateCallback);\n",
              "  simulator.memoryWriteCallbacks.push(screenUpdateCallback);\n",
              "\n",
              "  var app = new Vue({\n",
              "    el: '#sim-ui',\n",
              "    data: {\n",
              "      simulator: simulator\n",
              "    }\n",
              "  });\n",
              "</script>\n"
            ]
          },
          "metadata": {}
        }
      ]
    },
    {
      "cell_type": "markdown",
      "metadata": {
        "id": "gaTmmrI1kBoV"
      },
      "source": [
        "### Test case"
      ]
    },
    {
      "cell_type": "code",
      "metadata": {
        "id": "WXc3mbH_kCA8",
        "colab": {
          "base_uri": "https://localhost:8080/"
        },
        "outputId": "e7429933-5717-4614-8b72-f4b5ed6d22c8"
      },
      "source": [
        "class TestAsmMult(TestAsmBase):\n",
        "    def run_mult(self, num0, num1):\n",
        "        self.cpu.ram[0] = num0 % 65536\n",
        "        self.cpu.ram[1] = num1 % 65536\n",
        "        self.assemble_and_run(Mult_asm)\n",
        "        self.assertEqual(self.cpu.ram[2], (num0*num1) % 65536)\n",
        "\n",
        "    def test_mult1(self):\n",
        "        self.run_mult(5, 20)\n",
        "\n",
        "    def test_mult2(self):\n",
        "        self.run_mult(5, -2)\n",
        "\n",
        "    def test_mult3(self):\n",
        "        self.run_mult(-30000, 20)\n",
        "\n",
        "    def test_mult4(self):\n",
        "        self.run_mult(-30000, -2)\n",
        "\n",
        "run_test(TestAsmMult)"
      ],
      "execution_count": null,
      "outputs": [
        {
          "output_type": "stream",
          "name": "stderr",
          "text": [
            "....\n",
            "----------------------------------------------------------------------\n",
            "Ran 4 tests in 1.213s\n",
            "\n",
            "OK\n"
          ]
        }
      ]
    },
    {
      "cell_type": "markdown",
      "metadata": {
        "id": "2nKS-nDsofEf"
      },
      "source": [
        "## 3. `Fill.asm` - ระบายหน้าจอ\n",
        "\n",
        "เขียนโปรแกรมที่อ่านค่าสถานะการกดคีย์บอร์ด\n",
        "\n",
        "* ถ้ามีการกดปุ่มใด ๆ ค้างไว้ ให้ระบายหน้าจอเป็นสีดำ (บิตของหน้าจอเป็น 1 หมด)\n",
        "* ถ้าไม่มีการกดปุ่มใด ๆ เลย ให้ระบายหน้าจอเป็นสีขาว (บิตของหน้าจอเป็น 0 หมด)\n",
        "* การระบายสีดำหรือขาวสามารถเริ่มระบายที่จุดใดของจอก็ได้ แต่ขอให้ระบายให้เต็มทั้งจอตราบเท่าที่มีการกดปุ่ม (หรือปล่อยปุ่ม) ค้างไว้นานพอ\n",
        "\n",
        "**หมายเหตุ:**\n",
        "* ถ้าโปรแกรมของคุณยาว สามารถแบ่งโค้ดเป็นหลายส่วนแล้วค่อยมาต่อกันด้วย `+` ก่อนเรียก `assemble` ได้\n",
        "* โปรแกรมนี้ไม่มีตัวทดสอบอัตโนมัติ ขอให้ทดสอบด้วยตนเองให้แน่ใจว่าทำงานถูกต้อง หากไม่แน่ใจให้เรียกอาจารย์หรือผู้ช่วยสอนตรวจสอบ\n",
        "\n",
        "**คำใบ้:** สามารถใช้อัลกอริทึมด้านล่างมาแปลงเป็นโค้ดได้\n",
        "\n",
        "````\n",
        "while True:\n",
        "    i = 0\n",
        "    until i >= 8192:  # screen resolution is 512x256 pixels = (512x256/16) = 8192 words\n",
        "        if M[KBD] != 0:  # a key is pressed\n",
        "            M[SCREEN+i] = -1  # blackening 16 pixels\n",
        "        else:\n",
        "            M[SCREEN+i] = 0   # whitening 16 pixels\n",
        "        i = i+1\n",
        "````"
      ]
    },
    {
      "cell_type": "code",
      "metadata": {
        "id": "aV1WlaSVps4U"
      },
      "source": [
        "# DO NOT ERASE THIS CELL - to be graded\n",
        "Fill_asm = '''\n",
        "// Put your code here.\n",
        "(LOOP)\n",
        "  @KBD\n",
        "  D=M\n",
        "  @BLACK\n",
        "  D;JNE\n",
        "  @WHITE\n",
        "  D;JEQ\n",
        "\n",
        "(BLACK)\n",
        "  @i\n",
        "  D=M\n",
        "  @SCREEN\n",
        "  A=D+A\n",
        "  M=-1\n",
        "  @i\n",
        "  M=M+1\n",
        "  D=M\n",
        "  @8192\n",
        "  D=D-A\n",
        "  @END\n",
        "  D;JEQ\n",
        "  @LOOP\n",
        "  0;JMP\n",
        "(WHITE)\n",
        "  @i\n",
        "  D=M\n",
        "  @SCREEN\n",
        "  A=D+A\n",
        "  M=0\n",
        "  @i\n",
        "  M=M+1\n",
        "  D=M\n",
        "  @8192\n",
        "  D=D-A\n",
        "  @END\n",
        "  D;JEQ\n",
        "  @LOOP\n",
        "  0;JMP\n",
        "\n",
        "(END)\n",
        "  @0\n",
        "  D=A\n",
        "  @i\n",
        "  M=D\n",
        "  @LOOP\n",
        "  0;JMP\n",
        "\n",
        "'''"
      ],
      "execution_count": null,
      "outputs": []
    },
    {
      "cell_type": "code",
      "metadata": {
        "id": "Z-dP_yUWdVQI",
        "colab": {
          "base_uri": "https://localhost:8080/",
          "height": 826
        },
        "outputId": "fbb316b9-bb86-4e55-d45c-5801d8d5a58d"
      },
      "source": [
        "# พื้นที่ทดสอบ (ปรับเปลี่ยนตามต้องการ)\n",
        "simulate(assemble(Fill_asm), memory_display_slots=40)"
      ],
      "execution_count": null,
      "outputs": [
        {
          "output_type": "display_data",
          "data": {
            "text/html": [
              "\n",
              "<link rel=\"stylesheet\" href=\"https://jittat.gitlab.io/hacksim/sim.css\">\n",
              "<div id=\"sim-ui\">\n",
              "  <simulator v-bind:simulator=\"simulator\" memory-display-slots=\"40\" screen-scale=\"1\" v-bind:light-weight=\"false\" fastest-steps=\"103\"/>\n",
              "</div>\n",
              "<script>var exports = {};</script>\n",
              "<script src=\"https://cdn.jsdelivr.net/npm/vue/dist/vue.js\"></script>\n",
              "<script src=\"https://jittat.gitlab.io/hacksim/simulator.js\"></script>\n",
              "<script src=\"https://jittat.gitlab.io/hacksim/simulator-ui.js\"></script>\n",
              "<script>\n",
              "  var simulator = new HackSimulator();\n",
              "simulator.loadInstructions([24576,64528,6,58117,20,58114,16,64528,16384,57504,61064,16,64968,64528,8192,58576,34,58114,0,60039,16,64528,16384,57504,60040,16,64968,64528,8192,58576,34,58114,0,60039,0,60432,16,58120,0,60039]);\n",
              "  simulator.memoryWriteCallbacks.push(memUpdateCallback);\n",
              "  simulator.memoryWriteCallbacks.push(screenUpdateCallback);\n",
              "\n",
              "  var app = new Vue({\n",
              "    el: '#sim-ui',\n",
              "    data: {\n",
              "      simulator: simulator\n",
              "    }\n",
              "  });\n",
              "</script>\n"
            ]
          },
          "metadata": {}
        }
      ]
    },
    {
      "cell_type": "markdown",
      "metadata": {
        "id": "AQ6zK386jHyN"
      },
      "source": [
        "งานส่วนนี้ไม่มีตัวทดสอบอัตโนมัติ"
      ]
    }
  ]
}